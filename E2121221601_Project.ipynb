{
 "cells": [
  {
   "cell_type": "markdown",
   "id": "7206ccbe",
   "metadata": {},
   "source": [
    "## Statistics and Probability basic data analysis\n",
    "\n",
    "__Dataset link:__ https://www.kaggle.com/datasets/raghadalharbi/breast-cancer-gene-expression-profiles-metabric\n",
    "\n",
    "__Dataset description:__ this dataset is containing data about patients, who struggled with breast cancer. This dataset was collected by british scientists in 2016.   \n",
    "Dataset has 693 features, each row represents a human. Among the strings there are age of patient at diagnosis time, type of cancer, type of surgery, chemotherapy, mutation count and others.\n",
    "\n",
    "__Video presentation:__\n",
    "\n",
    "5 mins: https://youtu.be/s3G_SWAhQ0k  \n",
    "Full: https://youtu.be/R9hSS6OjBIw"
   ]
  },
  {
   "cell_type": "markdown",
   "id": "87af5c99",
   "metadata": {},
   "source": [
    "## Step 0: load data"
   ]
  },
  {
   "cell_type": "code",
   "execution_count": 1,
   "id": "fde6f5ac",
   "metadata": {},
   "outputs": [
    {
     "data": {
      "text/html": [
       "<table class=\"dataframe\">\n",
       "<caption>A data.frame: 1904 × 693</caption>\n",
       "<thead>\n",
       "\t<tr><th scope=col>patient_id</th><th scope=col>age_at_diagnosis</th><th scope=col>type_of_breast_surgery</th><th scope=col>cancer_type</th><th scope=col>cancer_type_detailed</th><th scope=col>cellularity</th><th scope=col>chemotherapy</th><th scope=col>pam50_._claudin.low_subtype</th><th scope=col>cohort</th><th scope=col>er_status_measured_by_ihc</th><th scope=col>...</th><th scope=col>mtap_mut</th><th scope=col>ppp2cb_mut</th><th scope=col>smarcd1_mut</th><th scope=col>nras_mut</th><th scope=col>ndfip1_mut</th><th scope=col>hras_mut</th><th scope=col>prps2_mut</th><th scope=col>smarcb1_mut</th><th scope=col>stmn2_mut</th><th scope=col>siah1_mut</th></tr>\n",
       "\t<tr><th scope=col>&lt;int&gt;</th><th scope=col>&lt;dbl&gt;</th><th scope=col>&lt;chr&gt;</th><th scope=col>&lt;chr&gt;</th><th scope=col>&lt;chr&gt;</th><th scope=col>&lt;chr&gt;</th><th scope=col>&lt;int&gt;</th><th scope=col>&lt;chr&gt;</th><th scope=col>&lt;dbl&gt;</th><th scope=col>&lt;chr&gt;</th><th scope=col>...</th><th scope=col>&lt;chr&gt;</th><th scope=col>&lt;chr&gt;</th><th scope=col>&lt;chr&gt;</th><th scope=col>&lt;chr&gt;</th><th scope=col>&lt;chr&gt;</th><th scope=col>&lt;chr&gt;</th><th scope=col>&lt;chr&gt;</th><th scope=col>&lt;chr&gt;</th><th scope=col>&lt;chr&gt;</th><th scope=col>&lt;chr&gt;</th></tr>\n",
       "</thead>\n",
       "<tbody>\n",
       "\t<tr><td> 0</td><td>75.65</td><td>MASTECTOMY       </td><td>Breast Cancer</td><td>Breast Invasive Ductal Carcinoma         </td><td>        </td><td>0</td><td>claudin-low</td><td>1</td><td>Positve </td><td>...</td><td>0    </td><td>0</td><td>0</td><td>0</td><td>0</td><td>0</td><td>0</td><td>0</td><td>0</td><td>0</td></tr>\n",
       "\t<tr><td> 2</td><td>43.19</td><td>BREAST CONSERVING</td><td>Breast Cancer</td><td>Breast Invasive Ductal Carcinoma         </td><td>High    </td><td>0</td><td>LumA       </td><td>1</td><td>Positve </td><td>...</td><td>0    </td><td>0</td><td>0</td><td>0</td><td>0</td><td>0</td><td>0</td><td>0</td><td>0</td><td>0</td></tr>\n",
       "\t<tr><td> 5</td><td>48.87</td><td>MASTECTOMY       </td><td>Breast Cancer</td><td>Breast Invasive Ductal Carcinoma         </td><td>High    </td><td>1</td><td>LumB       </td><td>1</td><td>Positve </td><td>...</td><td>0    </td><td>0</td><td>0</td><td>0</td><td>0</td><td>0</td><td>0</td><td>0</td><td>0</td><td>0</td></tr>\n",
       "\t<tr><td> 6</td><td>47.68</td><td>MASTECTOMY       </td><td>Breast Cancer</td><td>Breast Mixed Ductal and Lobular Carcinoma</td><td>Moderate</td><td>1</td><td>LumB       </td><td>1</td><td>Positve </td><td>...</td><td>0    </td><td>0</td><td>0</td><td>0</td><td>0</td><td>0</td><td>0</td><td>0</td><td>0</td><td>0</td></tr>\n",
       "\t<tr><td> 8</td><td>76.97</td><td>MASTECTOMY       </td><td>Breast Cancer</td><td>Breast Mixed Ductal and Lobular Carcinoma</td><td>High    </td><td>1</td><td>LumB       </td><td>1</td><td>Positve </td><td>...</td><td>0    </td><td>0</td><td>0</td><td>0</td><td>0</td><td>0</td><td>0</td><td>0</td><td>0</td><td>0</td></tr>\n",
       "\t<tr><td>10</td><td>78.77</td><td>MASTECTOMY       </td><td>Breast Cancer</td><td>Breast Invasive Ductal Carcinoma         </td><td>Moderate</td><td>0</td><td>LumB       </td><td>1</td><td>Positve </td><td>...</td><td>0    </td><td>0</td><td>0</td><td>0</td><td>0</td><td>0</td><td>0</td><td>0</td><td>0</td><td>0</td></tr>\n",
       "\t<tr><td>14</td><td>56.45</td><td>BREAST CONSERVING</td><td>Breast Cancer</td><td>Breast Invasive Ductal Carcinoma         </td><td>Moderate</td><td>1</td><td>LumB       </td><td>1</td><td>Positve </td><td>...</td><td>0    </td><td>0</td><td>0</td><td>0</td><td>0</td><td>0</td><td>0</td><td>0</td><td>0</td><td>0</td></tr>\n",
       "\t<tr><td>22</td><td>89.08</td><td>BREAST CONSERVING</td><td>Breast Cancer</td><td>Breast Mixed Ductal and Lobular Carcinoma</td><td>Moderate</td><td>0</td><td>claudin-low</td><td>1</td><td>Positve </td><td>...</td><td>0    </td><td>0</td><td>0</td><td>0</td><td>0</td><td>0</td><td>0</td><td>0</td><td>0</td><td>0</td></tr>\n",
       "\t<tr><td>28</td><td>86.41</td><td>BREAST CONSERVING</td><td>Breast Cancer</td><td>Breast Invasive Ductal Carcinoma         </td><td>Moderate</td><td>0</td><td>LumB       </td><td>1</td><td>Positve </td><td>...</td><td>0    </td><td>0</td><td>0</td><td>0</td><td>0</td><td>0</td><td>0</td><td>0</td><td>0</td><td>0</td></tr>\n",
       "\t<tr><td>35</td><td>84.22</td><td>MASTECTOMY       </td><td>Breast Cancer</td><td>Breast Invasive Lobular Carcinoma        </td><td>High    </td><td>0</td><td>Her2       </td><td>1</td><td>Negative</td><td>...</td><td>0    </td><td>0</td><td>0</td><td>0</td><td>0</td><td>0</td><td>0</td><td>0</td><td>0</td><td>0</td></tr>\n",
       "\t<tr><td>36</td><td>85.49</td><td>MASTECTOMY       </td><td>Breast Cancer</td><td>Breast Invasive Ductal Carcinoma         </td><td>Moderate</td><td>0</td><td>LumA       </td><td>1</td><td>Positve </td><td>...</td><td>0    </td><td>0</td><td>0</td><td>0</td><td>0</td><td>0</td><td>0</td><td>0</td><td>0</td><td>0</td></tr>\n",
       "\t<tr><td>39</td><td>70.91</td><td>BREAST CONSERVING</td><td>Breast Cancer</td><td>Breast Invasive Ductal Carcinoma         </td><td>High    </td><td>0</td><td>LumB       </td><td>1</td><td>Positve </td><td>...</td><td>0    </td><td>0</td><td>0</td><td>0</td><td>0</td><td>0</td><td>0</td><td>0</td><td>0</td><td>0</td></tr>\n",
       "\t<tr><td>45</td><td>45.27</td><td>MASTECTOMY       </td><td>Breast Cancer</td><td>Breast Invasive Ductal Carcinoma         </td><td>High    </td><td>1</td><td>claudin-low</td><td>1</td><td>Negative</td><td>...</td><td>0    </td><td>0</td><td>0</td><td>0</td><td>0</td><td>0</td><td>0</td><td>0</td><td>0</td><td>0</td></tr>\n",
       "\t<tr><td>46</td><td>83.02</td><td>MASTECTOMY       </td><td>Breast Cancer</td><td>Breast Invasive Ductal Carcinoma         </td><td>High    </td><td>0</td><td>LumA       </td><td>1</td><td>Positve </td><td>...</td><td>0    </td><td>0</td><td>0</td><td>0</td><td>0</td><td>0</td><td>0</td><td>0</td><td>0</td><td>0</td></tr>\n",
       "\t<tr><td>48</td><td>51.46</td><td>BREAST CONSERVING</td><td>Breast Cancer</td><td>Breast Invasive Ductal Carcinoma         </td><td>Low     </td><td>1</td><td>claudin-low</td><td>1</td><td>Positve </td><td>...</td><td>0    </td><td>0</td><td>0</td><td>0</td><td>0</td><td>0</td><td>0</td><td>0</td><td>0</td><td>0</td></tr>\n",
       "\t<tr><td>50</td><td>44.64</td><td>BREAST CONSERVING</td><td>Breast Cancer</td><td>Breast Mixed Ductal and Lobular Carcinoma</td><td>Moderate</td><td>1</td><td>Normal     </td><td>1</td><td>Positve </td><td>...</td><td>0    </td><td>0</td><td>0</td><td>0</td><td>0</td><td>0</td><td>0</td><td>0</td><td>0</td><td>0</td></tr>\n",
       "\t<tr><td>53</td><td>70.02</td><td>BREAST CONSERVING</td><td>Breast Cancer</td><td>Breast Invasive Ductal Carcinoma         </td><td>High    </td><td>0</td><td>LumB       </td><td>1</td><td>Positve </td><td>...</td><td>0    </td><td>0</td><td>0</td><td>0</td><td>0</td><td>0</td><td>0</td><td>0</td><td>0</td><td>0</td></tr>\n",
       "\t<tr><td>54</td><td>66.91</td><td>MASTECTOMY       </td><td>Breast Cancer</td><td>Breast Invasive Ductal Carcinoma         </td><td>Moderate</td><td>0</td><td>LumB       </td><td>1</td><td>Positve </td><td>...</td><td>I255L</td><td>0</td><td>0</td><td>0</td><td>0</td><td>0</td><td>0</td><td>0</td><td>0</td><td>0</td></tr>\n",
       "\t<tr><td>56</td><td>62.62</td><td>MASTECTOMY       </td><td>Breast Cancer</td><td>Breast Mixed Ductal and Lobular Carcinoma</td><td>High    </td><td>0</td><td>LumB       </td><td>1</td><td>Positve </td><td>...</td><td>0    </td><td>0</td><td>0</td><td>0</td><td>0</td><td>0</td><td>0</td><td>0</td><td>0</td><td>0</td></tr>\n",
       "\t<tr><td>60</td><td>45.43</td><td>BREAST CONSERVING</td><td>Breast Cancer</td><td>Breast Invasive Ductal Carcinoma         </td><td>High    </td><td>1</td><td>LumB       </td><td>1</td><td>Positve </td><td>...</td><td>0    </td><td>0</td><td>0</td><td>0</td><td>0</td><td>0</td><td>0</td><td>0</td><td>0</td><td>0</td></tr>\n",
       "\t<tr><td>62</td><td>52.14</td><td>MASTECTOMY       </td><td>Breast Cancer</td><td>Breast Invasive Ductal Carcinoma         </td><td>High    </td><td>1</td><td>Basal      </td><td>1</td><td>Negative</td><td>...</td><td>0    </td><td>0</td><td>0</td><td>0</td><td>0</td><td>0</td><td>0</td><td>0</td><td>0</td><td>0</td></tr>\n",
       "\t<tr><td>64</td><td>69.13</td><td>BREAST CONSERVING</td><td>Breast Cancer</td><td>Breast Invasive Ductal Carcinoma         </td><td>Moderate</td><td>0</td><td>LumB       </td><td>1</td><td>Positve </td><td>...</td><td>0    </td><td>0</td><td>0</td><td>0</td><td>0</td><td>0</td><td>0</td><td>0</td><td>0</td><td>0</td></tr>\n",
       "\t<tr><td>66</td><td>61.49</td><td>BREAST CONSERVING</td><td>Breast Cancer</td><td>Breast Invasive Ductal Carcinoma         </td><td>High    </td><td>0</td><td>LumB       </td><td>1</td><td>Positve </td><td>...</td><td>0    </td><td>0</td><td>0</td><td>0</td><td>0</td><td>0</td><td>0</td><td>0</td><td>0</td><td>0</td></tr>\n",
       "\t<tr><td>68</td><td>51.01</td><td>BREAST CONSERVING</td><td>Breast Cancer</td><td>Breast Invasive Ductal Carcinoma         </td><td>High    </td><td>0</td><td>LumA       </td><td>1</td><td>Positve </td><td>...</td><td>0    </td><td>0</td><td>0</td><td>0</td><td>0</td><td>0</td><td>0</td><td>0</td><td>0</td><td>0</td></tr>\n",
       "\t<tr><td>79</td><td>50.42</td><td>MASTECTOMY       </td><td>Breast Cancer</td><td>Breast Invasive Ductal Carcinoma         </td><td>High    </td><td>1</td><td>Her2       </td><td>1</td><td>Negative</td><td>...</td><td>0    </td><td>0</td><td>0</td><td>0</td><td>0</td><td>0</td><td>0</td><td>0</td><td>0</td><td>0</td></tr>\n",
       "\t<tr><td>81</td><td>49.61</td><td>BREAST CONSERVING</td><td>Breast Cancer</td><td>Breast Invasive Ductal Carcinoma         </td><td>Moderate</td><td>0</td><td>claudin-low</td><td>1</td><td>Positve </td><td>...</td><td>0    </td><td>0</td><td>0</td><td>0</td><td>0</td><td>0</td><td>0</td><td>0</td><td>0</td><td>0</td></tr>\n",
       "\t<tr><td>83</td><td>64.85</td><td>BREAST CONSERVING</td><td>Breast Cancer</td><td>Breast Invasive Lobular Carcinoma        </td><td>Moderate</td><td>0</td><td>LumB       </td><td>1</td><td>Positve </td><td>...</td><td>0    </td><td>0</td><td>0</td><td>0</td><td>0</td><td>0</td><td>0</td><td>0</td><td>0</td><td>0</td></tr>\n",
       "\t<tr><td>93</td><td>43.55</td><td>BREAST CONSERVING</td><td>Breast Cancer</td><td>Breast Mixed Ductal and Lobular Carcinoma</td><td>High    </td><td>0</td><td>LumB       </td><td>1</td><td>Positve </td><td>...</td><td>0    </td><td>0</td><td>0</td><td>0</td><td>0</td><td>0</td><td>0</td><td>0</td><td>0</td><td>0</td></tr>\n",
       "\t<tr><td>95</td><td>80.50</td><td>MASTECTOMY       </td><td>Breast Cancer</td><td>Breast Invasive Ductal Carcinoma         </td><td>High    </td><td>0</td><td>LumB       </td><td>1</td><td>Positve </td><td>...</td><td>0    </td><td>0</td><td>0</td><td>0</td><td>0</td><td>0</td><td>0</td><td>0</td><td>0</td><td>0</td></tr>\n",
       "\t<tr><td>97</td><td>78.19</td><td>MASTECTOMY       </td><td>Breast Cancer</td><td>Breast Invasive Ductal Carcinoma         </td><td>High    </td><td>0</td><td>LumA       </td><td>1</td><td>Positve </td><td>...</td><td>0    </td><td>0</td><td>0</td><td>0</td><td>0</td><td>0</td><td>0</td><td>0</td><td>0</td><td>0</td></tr>\n",
       "\t<tr><td>...</td><td>...</td><td>...</td><td>...</td><td>...</td><td>...</td><td>...</td><td>...</td><td>...</td><td>...</td><td></td><td>...</td><td>...</td><td>...</td><td>...</td><td>...</td><td>...</td><td>...</td><td>...</td><td>...</td><td>...</td></tr>\n",
       "\t<tr><td>7264</td><td>60.57</td><td>BREAST CONSERVING</td><td>Breast Cancer</td><td>Breast Invasive Ductal Carcinoma </td><td>Moderate</td><td>0</td><td>Normal     </td><td>4</td><td>Positve </td><td>...</td><td>0</td><td>0    </td><td>0</td><td>0</td><td>0</td><td>0</td><td>0</td><td>0</td><td>0</td><td>0    </td></tr>\n",
       "\t<tr><td>7266</td><td>59.82</td><td>BREAST CONSERVING</td><td>Breast Cancer</td><td>Breast Invasive Ductal Carcinoma </td><td>Moderate</td><td>0</td><td>LumB       </td><td>4</td><td>Positve </td><td>...</td><td>0</td><td>0    </td><td>0</td><td>0</td><td>0</td><td>0</td><td>0</td><td>0</td><td>0</td><td>0    </td></tr>\n",
       "\t<tr><td>7267</td><td>28.37</td><td>MASTECTOMY       </td><td>Breast Cancer</td><td>Breast Invasive Ductal Carcinoma </td><td>Moderate</td><td>1</td><td>Basal      </td><td>4</td><td>Negative</td><td>...</td><td>0</td><td>0    </td><td>0</td><td>0</td><td>0</td><td>0</td><td>0</td><td>0</td><td>0</td><td>0    </td></tr>\n",
       "\t<tr><td>7268</td><td>34.64</td><td>MASTECTOMY       </td><td>Breast Cancer</td><td>Breast Invasive Ductal Carcinoma </td><td>Moderate</td><td>0</td><td>LumA       </td><td>4</td><td>Positve </td><td>...</td><td>0</td><td>0    </td><td>0</td><td>0</td><td>0</td><td>0</td><td>0</td><td>0</td><td>0</td><td>0    </td></tr>\n",
       "\t<tr><td>7269</td><td>36.60</td><td>BREAST CONSERVING</td><td>Breast Cancer</td><td>Breast Invasive Ductal Carcinoma </td><td>Moderate</td><td>1</td><td>Basal      </td><td>4</td><td>Negative</td><td>...</td><td>0</td><td>R110C</td><td>0</td><td>0</td><td>0</td><td>0</td><td>0</td><td>0</td><td>0</td><td>0    </td></tr>\n",
       "\t<tr><td>7270</td><td>50.84</td><td>MASTECTOMY       </td><td>Breast Cancer</td><td>Breast Invasive Ductal Carcinoma </td><td>High    </td><td>1</td><td>Basal      </td><td>4</td><td>Negative</td><td>...</td><td>0</td><td>0    </td><td>0</td><td>0</td><td>0</td><td>0</td><td>0</td><td>0</td><td>0</td><td>0    </td></tr>\n",
       "\t<tr><td>7273</td><td>47.47</td><td>BREAST CONSERVING</td><td>Breast Cancer</td><td>Breast Invasive Lobular Carcinoma</td><td>High    </td><td>1</td><td>Her2       </td><td>4</td><td>Negative</td><td>...</td><td>0</td><td>0    </td><td>0</td><td>0</td><td>0</td><td>0</td><td>0</td><td>0</td><td>0</td><td>0    </td></tr>\n",
       "\t<tr><td>7275</td><td>30.02</td><td>MASTECTOMY       </td><td>Breast Cancer</td><td>Breast Invasive Ductal Carcinoma </td><td>High    </td><td>1</td><td>Her2       </td><td>4</td><td>Negative</td><td>...</td><td>0</td><td>0    </td><td>0</td><td>0</td><td>0</td><td>0</td><td>0</td><td>0</td><td>0</td><td>0    </td></tr>\n",
       "\t<tr><td>7276</td><td>61.27</td><td>BREAST CONSERVING</td><td>Breast Cancer</td><td>Breast Invasive Ductal Carcinoma </td><td>High    </td><td>0</td><td>LumA       </td><td>4</td><td>Positve </td><td>...</td><td>0</td><td>0    </td><td>0</td><td>0</td><td>0</td><td>0</td><td>0</td><td>0</td><td>0</td><td>0    </td></tr>\n",
       "\t<tr><td>7277</td><td>56.78</td><td>MASTECTOMY       </td><td>Breast Cancer</td><td>Breast Invasive Ductal Carcinoma </td><td>High    </td><td>0</td><td>LumA       </td><td>4</td><td>Positve </td><td>...</td><td>0</td><td>0    </td><td>0</td><td>0</td><td>0</td><td>0</td><td>0</td><td>0</td><td>0</td><td>0    </td></tr>\n",
       "\t<tr><td>7278</td><td>67.89</td><td>MASTECTOMY       </td><td>Breast Cancer</td><td>Breast Invasive Ductal Carcinoma </td><td>High    </td><td>0</td><td>LumA       </td><td>4</td><td>Positve </td><td>...</td><td>0</td><td>0    </td><td>0</td><td>0</td><td>0</td><td>0</td><td>0</td><td>0</td><td>0</td><td>0    </td></tr>\n",
       "\t<tr><td>7279</td><td>86.14</td><td>MASTECTOMY       </td><td>Breast Cancer</td><td>Breast Invasive Ductal Carcinoma </td><td>High    </td><td>0</td><td>Her2       </td><td>4</td><td>Positve </td><td>...</td><td>0</td><td>0    </td><td>0</td><td>0</td><td>0</td><td>0</td><td>0</td><td>0</td><td>0</td><td>T249A</td></tr>\n",
       "\t<tr><td>7280</td><td>63.50</td><td>MASTECTOMY       </td><td>Breast Cancer</td><td>Breast Invasive Ductal Carcinoma </td><td>High    </td><td>0</td><td>LumA       </td><td>4</td><td>Positve </td><td>...</td><td>0</td><td>0    </td><td>0</td><td>0</td><td>0</td><td>0</td><td>0</td><td>0</td><td>0</td><td>0    </td></tr>\n",
       "\t<tr><td>7281</td><td>51.22</td><td>MASTECTOMY       </td><td>Breast Cancer</td><td>Breast Invasive Ductal Carcinoma </td><td>Moderate</td><td>1</td><td>Her2       </td><td>4</td><td>Positve </td><td>...</td><td>0</td><td>0    </td><td>0</td><td>0</td><td>0</td><td>0</td><td>0</td><td>0</td><td>0</td><td>0    </td></tr>\n",
       "\t<tr><td>7283</td><td>54.42</td><td>BREAST CONSERVING</td><td>Breast Cancer</td><td>Breast Invasive Lobular Carcinoma</td><td>Moderate</td><td>1</td><td>LumB       </td><td>4</td><td>Positve </td><td>...</td><td>0</td><td>0    </td><td>0</td><td>0</td><td>0</td><td>0</td><td>0</td><td>0</td><td>0</td><td>0    </td></tr>\n",
       "\t<tr><td>7284</td><td>61.23</td><td>MASTECTOMY       </td><td>Breast Cancer</td><td>Breast Invasive Ductal Carcinoma </td><td>High    </td><td>0</td><td>LumA       </td><td>4</td><td>Positve </td><td>...</td><td>0</td><td>0    </td><td>0</td><td>0</td><td>0</td><td>0</td><td>0</td><td>0</td><td>0</td><td>0    </td></tr>\n",
       "\t<tr><td>7285</td><td>53.14</td><td>BREAST CONSERVING</td><td>Breast Cancer</td><td>Breast Invasive Ductal Carcinoma </td><td>Moderate</td><td>0</td><td>claudin-low</td><td>4</td><td>Positve </td><td>...</td><td>0</td><td>0    </td><td>0</td><td>0</td><td>0</td><td>0</td><td>0</td><td>0</td><td>0</td><td>0    </td></tr>\n",
       "\t<tr><td>7286</td><td>66.48</td><td>MASTECTOMY       </td><td>Breast Cancer</td><td>Breast Invasive Ductal Carcinoma </td><td>High    </td><td>0</td><td>LumB       </td><td>4</td><td>Positve </td><td>...</td><td>0</td><td>0    </td><td>0</td><td>0</td><td>0</td><td>0</td><td>0</td><td>0</td><td>0</td><td>0    </td></tr>\n",
       "\t<tr><td>7287</td><td>63.09</td><td>MASTECTOMY       </td><td>Breast Cancer</td><td>Breast Invasive Ductal Carcinoma </td><td>Moderate</td><td>0</td><td>LumB       </td><td>4</td><td>Positve </td><td>...</td><td>0</td><td>0    </td><td>0</td><td>0</td><td>0</td><td>0</td><td>0</td><td>0</td><td>0</td><td>0    </td></tr>\n",
       "\t<tr><td>7288</td><td>55.70</td><td>BREAST CONSERVING</td><td>Breast Cancer</td><td>Breast Invasive Ductal Carcinoma </td><td>High    </td><td>0</td><td>LumB       </td><td>4</td><td>Positve </td><td>...</td><td>0</td><td>0    </td><td>0</td><td>0</td><td>0</td><td>0</td><td>0</td><td>0</td><td>0</td><td>0    </td></tr>\n",
       "\t<tr><td>7289</td><td>51.87</td><td>MASTECTOMY       </td><td>Breast Cancer</td><td>Breast Invasive Ductal Carcinoma </td><td>Moderate</td><td>0</td><td>Normal     </td><td>4</td><td>Positve </td><td>...</td><td>0</td><td>0    </td><td>0</td><td>0</td><td>0</td><td>0</td><td>0</td><td>0</td><td>0</td><td>0    </td></tr>\n",
       "\t<tr><td>7291</td><td>53.87</td><td>MASTECTOMY       </td><td>Breast Cancer</td><td>Breast Invasive Ductal Carcinoma </td><td>High    </td><td>0</td><td>claudin-low</td><td>4</td><td>Positve </td><td>...</td><td>0</td><td>0    </td><td>0</td><td>0</td><td>0</td><td>0</td><td>0</td><td>0</td><td>0</td><td>0    </td></tr>\n",
       "\t<tr><td>7292</td><td>52.90</td><td>BREAST CONSERVING</td><td>Breast Cancer</td><td>Breast Invasive Ductal Carcinoma </td><td>High    </td><td>0</td><td>LumB       </td><td>4</td><td>Positve </td><td>...</td><td>0</td><td>0    </td><td>0</td><td>0</td><td>0</td><td>0</td><td>0</td><td>0</td><td>0</td><td>0    </td></tr>\n",
       "\t<tr><td>7293</td><td>56.90</td><td>MASTECTOMY       </td><td>Breast Cancer</td><td>Breast Invasive Ductal Carcinoma </td><td>High    </td><td>0</td><td>LumA       </td><td>4</td><td>Positve </td><td>...</td><td>0</td><td>0    </td><td>0</td><td>0</td><td>0</td><td>0</td><td>0</td><td>0</td><td>0</td><td>0    </td></tr>\n",
       "\t<tr><td>7294</td><td>59.20</td><td>MASTECTOMY       </td><td>Breast Cancer</td><td>Breast Invasive Ductal Carcinoma </td><td>High    </td><td>0</td><td>LumB       </td><td>4</td><td>Positve </td><td>...</td><td>0</td><td>0    </td><td>0</td><td>0</td><td>0</td><td>0</td><td>0</td><td>0</td><td>0</td><td>0    </td></tr>\n",
       "\t<tr><td>7295</td><td>43.10</td><td>BREAST CONSERVING</td><td>Breast Cancer</td><td>Breast Invasive Lobular Carcinoma</td><td>High    </td><td>0</td><td>LumA       </td><td>4</td><td>Positve </td><td>...</td><td>0</td><td>0    </td><td>0</td><td>0</td><td>0</td><td>0</td><td>0</td><td>0</td><td>0</td><td>0    </td></tr>\n",
       "\t<tr><td>7296</td><td>42.88</td><td>MASTECTOMY       </td><td>Breast Cancer</td><td>Breast Invasive Ductal Carcinoma </td><td>High    </td><td>0</td><td>LumB       </td><td>4</td><td>Positve </td><td>...</td><td>0</td><td>0    </td><td>0</td><td>0</td><td>0</td><td>0</td><td>0</td><td>0</td><td>0</td><td>0    </td></tr>\n",
       "\t<tr><td>7297</td><td>62.90</td><td>MASTECTOMY       </td><td>Breast Cancer</td><td>Breast Invasive Ductal Carcinoma </td><td>High    </td><td>0</td><td>LumB       </td><td>4</td><td>Positve </td><td>...</td><td>0</td><td>0    </td><td>0</td><td>0</td><td>0</td><td>0</td><td>0</td><td>0</td><td>0</td><td>0    </td></tr>\n",
       "\t<tr><td>7298</td><td>61.16</td><td>MASTECTOMY       </td><td>Breast Cancer</td><td>Breast Invasive Ductal Carcinoma </td><td>Moderate</td><td>0</td><td>LumB       </td><td>4</td><td>Positve </td><td>...</td><td>0</td><td>0    </td><td>0</td><td>0</td><td>0</td><td>0</td><td>0</td><td>0</td><td>0</td><td>0    </td></tr>\n",
       "\t<tr><td>7299</td><td>60.02</td><td>BREAST CONSERVING</td><td>Breast Cancer</td><td>Breast Invasive Ductal Carcinoma </td><td>High    </td><td>0</td><td>LumB       </td><td>4</td><td>Positve </td><td>...</td><td>0</td><td>0    </td><td>0</td><td>0</td><td>0</td><td>0</td><td>0</td><td>0</td><td>0</td><td>0    </td></tr>\n",
       "</tbody>\n",
       "</table>\n"
      ],
      "text/latex": [
       "A data.frame: 1904 × 693\n",
       "\\begin{tabular}{lllllllllllllllllllll}\n",
       " patient\\_id & age\\_at\\_diagnosis & type\\_of\\_breast\\_surgery & cancer\\_type & cancer\\_type\\_detailed & cellularity & chemotherapy & pam50\\_.\\_claudin.low\\_subtype & cohort & er\\_status\\_measured\\_by\\_ihc & ... & mtap\\_mut & ppp2cb\\_mut & smarcd1\\_mut & nras\\_mut & ndfip1\\_mut & hras\\_mut & prps2\\_mut & smarcb1\\_mut & stmn2\\_mut & siah1\\_mut\\\\\n",
       " <int> & <dbl> & <chr> & <chr> & <chr> & <chr> & <int> & <chr> & <dbl> & <chr> & ... & <chr> & <chr> & <chr> & <chr> & <chr> & <chr> & <chr> & <chr> & <chr> & <chr>\\\\\n",
       "\\hline\n",
       "\t  0 & 75.65 & MASTECTOMY        & Breast Cancer & Breast Invasive Ductal Carcinoma          &          & 0 & claudin-low & 1 & Positve  & ... & 0     & 0 & 0 & 0 & 0 & 0 & 0 & 0 & 0 & 0\\\\\n",
       "\t  2 & 43.19 & BREAST CONSERVING & Breast Cancer & Breast Invasive Ductal Carcinoma          & High     & 0 & LumA        & 1 & Positve  & ... & 0     & 0 & 0 & 0 & 0 & 0 & 0 & 0 & 0 & 0\\\\\n",
       "\t  5 & 48.87 & MASTECTOMY        & Breast Cancer & Breast Invasive Ductal Carcinoma          & High     & 1 & LumB        & 1 & Positve  & ... & 0     & 0 & 0 & 0 & 0 & 0 & 0 & 0 & 0 & 0\\\\\n",
       "\t  6 & 47.68 & MASTECTOMY        & Breast Cancer & Breast Mixed Ductal and Lobular Carcinoma & Moderate & 1 & LumB        & 1 & Positve  & ... & 0     & 0 & 0 & 0 & 0 & 0 & 0 & 0 & 0 & 0\\\\\n",
       "\t  8 & 76.97 & MASTECTOMY        & Breast Cancer & Breast Mixed Ductal and Lobular Carcinoma & High     & 1 & LumB        & 1 & Positve  & ... & 0     & 0 & 0 & 0 & 0 & 0 & 0 & 0 & 0 & 0\\\\\n",
       "\t 10 & 78.77 & MASTECTOMY        & Breast Cancer & Breast Invasive Ductal Carcinoma          & Moderate & 0 & LumB        & 1 & Positve  & ... & 0     & 0 & 0 & 0 & 0 & 0 & 0 & 0 & 0 & 0\\\\\n",
       "\t 14 & 56.45 & BREAST CONSERVING & Breast Cancer & Breast Invasive Ductal Carcinoma          & Moderate & 1 & LumB        & 1 & Positve  & ... & 0     & 0 & 0 & 0 & 0 & 0 & 0 & 0 & 0 & 0\\\\\n",
       "\t 22 & 89.08 & BREAST CONSERVING & Breast Cancer & Breast Mixed Ductal and Lobular Carcinoma & Moderate & 0 & claudin-low & 1 & Positve  & ... & 0     & 0 & 0 & 0 & 0 & 0 & 0 & 0 & 0 & 0\\\\\n",
       "\t 28 & 86.41 & BREAST CONSERVING & Breast Cancer & Breast Invasive Ductal Carcinoma          & Moderate & 0 & LumB        & 1 & Positve  & ... & 0     & 0 & 0 & 0 & 0 & 0 & 0 & 0 & 0 & 0\\\\\n",
       "\t 35 & 84.22 & MASTECTOMY        & Breast Cancer & Breast Invasive Lobular Carcinoma         & High     & 0 & Her2        & 1 & Negative & ... & 0     & 0 & 0 & 0 & 0 & 0 & 0 & 0 & 0 & 0\\\\\n",
       "\t 36 & 85.49 & MASTECTOMY        & Breast Cancer & Breast Invasive Ductal Carcinoma          & Moderate & 0 & LumA        & 1 & Positve  & ... & 0     & 0 & 0 & 0 & 0 & 0 & 0 & 0 & 0 & 0\\\\\n",
       "\t 39 & 70.91 & BREAST CONSERVING & Breast Cancer & Breast Invasive Ductal Carcinoma          & High     & 0 & LumB        & 1 & Positve  & ... & 0     & 0 & 0 & 0 & 0 & 0 & 0 & 0 & 0 & 0\\\\\n",
       "\t 45 & 45.27 & MASTECTOMY        & Breast Cancer & Breast Invasive Ductal Carcinoma          & High     & 1 & claudin-low & 1 & Negative & ... & 0     & 0 & 0 & 0 & 0 & 0 & 0 & 0 & 0 & 0\\\\\n",
       "\t 46 & 83.02 & MASTECTOMY        & Breast Cancer & Breast Invasive Ductal Carcinoma          & High     & 0 & LumA        & 1 & Positve  & ... & 0     & 0 & 0 & 0 & 0 & 0 & 0 & 0 & 0 & 0\\\\\n",
       "\t 48 & 51.46 & BREAST CONSERVING & Breast Cancer & Breast Invasive Ductal Carcinoma          & Low      & 1 & claudin-low & 1 & Positve  & ... & 0     & 0 & 0 & 0 & 0 & 0 & 0 & 0 & 0 & 0\\\\\n",
       "\t 50 & 44.64 & BREAST CONSERVING & Breast Cancer & Breast Mixed Ductal and Lobular Carcinoma & Moderate & 1 & Normal      & 1 & Positve  & ... & 0     & 0 & 0 & 0 & 0 & 0 & 0 & 0 & 0 & 0\\\\\n",
       "\t 53 & 70.02 & BREAST CONSERVING & Breast Cancer & Breast Invasive Ductal Carcinoma          & High     & 0 & LumB        & 1 & Positve  & ... & 0     & 0 & 0 & 0 & 0 & 0 & 0 & 0 & 0 & 0\\\\\n",
       "\t 54 & 66.91 & MASTECTOMY        & Breast Cancer & Breast Invasive Ductal Carcinoma          & Moderate & 0 & LumB        & 1 & Positve  & ... & I255L & 0 & 0 & 0 & 0 & 0 & 0 & 0 & 0 & 0\\\\\n",
       "\t 56 & 62.62 & MASTECTOMY        & Breast Cancer & Breast Mixed Ductal and Lobular Carcinoma & High     & 0 & LumB        & 1 & Positve  & ... & 0     & 0 & 0 & 0 & 0 & 0 & 0 & 0 & 0 & 0\\\\\n",
       "\t 60 & 45.43 & BREAST CONSERVING & Breast Cancer & Breast Invasive Ductal Carcinoma          & High     & 1 & LumB        & 1 & Positve  & ... & 0     & 0 & 0 & 0 & 0 & 0 & 0 & 0 & 0 & 0\\\\\n",
       "\t 62 & 52.14 & MASTECTOMY        & Breast Cancer & Breast Invasive Ductal Carcinoma          & High     & 1 & Basal       & 1 & Negative & ... & 0     & 0 & 0 & 0 & 0 & 0 & 0 & 0 & 0 & 0\\\\\n",
       "\t 64 & 69.13 & BREAST CONSERVING & Breast Cancer & Breast Invasive Ductal Carcinoma          & Moderate & 0 & LumB        & 1 & Positve  & ... & 0     & 0 & 0 & 0 & 0 & 0 & 0 & 0 & 0 & 0\\\\\n",
       "\t 66 & 61.49 & BREAST CONSERVING & Breast Cancer & Breast Invasive Ductal Carcinoma          & High     & 0 & LumB        & 1 & Positve  & ... & 0     & 0 & 0 & 0 & 0 & 0 & 0 & 0 & 0 & 0\\\\\n",
       "\t 68 & 51.01 & BREAST CONSERVING & Breast Cancer & Breast Invasive Ductal Carcinoma          & High     & 0 & LumA        & 1 & Positve  & ... & 0     & 0 & 0 & 0 & 0 & 0 & 0 & 0 & 0 & 0\\\\\n",
       "\t 79 & 50.42 & MASTECTOMY        & Breast Cancer & Breast Invasive Ductal Carcinoma          & High     & 1 & Her2        & 1 & Negative & ... & 0     & 0 & 0 & 0 & 0 & 0 & 0 & 0 & 0 & 0\\\\\n",
       "\t 81 & 49.61 & BREAST CONSERVING & Breast Cancer & Breast Invasive Ductal Carcinoma          & Moderate & 0 & claudin-low & 1 & Positve  & ... & 0     & 0 & 0 & 0 & 0 & 0 & 0 & 0 & 0 & 0\\\\\n",
       "\t 83 & 64.85 & BREAST CONSERVING & Breast Cancer & Breast Invasive Lobular Carcinoma         & Moderate & 0 & LumB        & 1 & Positve  & ... & 0     & 0 & 0 & 0 & 0 & 0 & 0 & 0 & 0 & 0\\\\\n",
       "\t 93 & 43.55 & BREAST CONSERVING & Breast Cancer & Breast Mixed Ductal and Lobular Carcinoma & High     & 0 & LumB        & 1 & Positve  & ... & 0     & 0 & 0 & 0 & 0 & 0 & 0 & 0 & 0 & 0\\\\\n",
       "\t 95 & 80.50 & MASTECTOMY        & Breast Cancer & Breast Invasive Ductal Carcinoma          & High     & 0 & LumB        & 1 & Positve  & ... & 0     & 0 & 0 & 0 & 0 & 0 & 0 & 0 & 0 & 0\\\\\n",
       "\t 97 & 78.19 & MASTECTOMY        & Breast Cancer & Breast Invasive Ductal Carcinoma          & High     & 0 & LumA        & 1 & Positve  & ... & 0     & 0 & 0 & 0 & 0 & 0 & 0 & 0 & 0 & 0\\\\\n",
       "\t ... & ... & ... & ... & ... & ... & ... & ... & ... & ... &  & ... & ... & ... & ... & ... & ... & ... & ... & ... & ...\\\\\n",
       "\t 7264 & 60.57 & BREAST CONSERVING & Breast Cancer & Breast Invasive Ductal Carcinoma  & Moderate & 0 & Normal      & 4 & Positve  & ... & 0 & 0     & 0 & 0 & 0 & 0 & 0 & 0 & 0 & 0    \\\\\n",
       "\t 7266 & 59.82 & BREAST CONSERVING & Breast Cancer & Breast Invasive Ductal Carcinoma  & Moderate & 0 & LumB        & 4 & Positve  & ... & 0 & 0     & 0 & 0 & 0 & 0 & 0 & 0 & 0 & 0    \\\\\n",
       "\t 7267 & 28.37 & MASTECTOMY        & Breast Cancer & Breast Invasive Ductal Carcinoma  & Moderate & 1 & Basal       & 4 & Negative & ... & 0 & 0     & 0 & 0 & 0 & 0 & 0 & 0 & 0 & 0    \\\\\n",
       "\t 7268 & 34.64 & MASTECTOMY        & Breast Cancer & Breast Invasive Ductal Carcinoma  & Moderate & 0 & LumA        & 4 & Positve  & ... & 0 & 0     & 0 & 0 & 0 & 0 & 0 & 0 & 0 & 0    \\\\\n",
       "\t 7269 & 36.60 & BREAST CONSERVING & Breast Cancer & Breast Invasive Ductal Carcinoma  & Moderate & 1 & Basal       & 4 & Negative & ... & 0 & R110C & 0 & 0 & 0 & 0 & 0 & 0 & 0 & 0    \\\\\n",
       "\t 7270 & 50.84 & MASTECTOMY        & Breast Cancer & Breast Invasive Ductal Carcinoma  & High     & 1 & Basal       & 4 & Negative & ... & 0 & 0     & 0 & 0 & 0 & 0 & 0 & 0 & 0 & 0    \\\\\n",
       "\t 7273 & 47.47 & BREAST CONSERVING & Breast Cancer & Breast Invasive Lobular Carcinoma & High     & 1 & Her2        & 4 & Negative & ... & 0 & 0     & 0 & 0 & 0 & 0 & 0 & 0 & 0 & 0    \\\\\n",
       "\t 7275 & 30.02 & MASTECTOMY        & Breast Cancer & Breast Invasive Ductal Carcinoma  & High     & 1 & Her2        & 4 & Negative & ... & 0 & 0     & 0 & 0 & 0 & 0 & 0 & 0 & 0 & 0    \\\\\n",
       "\t 7276 & 61.27 & BREAST CONSERVING & Breast Cancer & Breast Invasive Ductal Carcinoma  & High     & 0 & LumA        & 4 & Positve  & ... & 0 & 0     & 0 & 0 & 0 & 0 & 0 & 0 & 0 & 0    \\\\\n",
       "\t 7277 & 56.78 & MASTECTOMY        & Breast Cancer & Breast Invasive Ductal Carcinoma  & High     & 0 & LumA        & 4 & Positve  & ... & 0 & 0     & 0 & 0 & 0 & 0 & 0 & 0 & 0 & 0    \\\\\n",
       "\t 7278 & 67.89 & MASTECTOMY        & Breast Cancer & Breast Invasive Ductal Carcinoma  & High     & 0 & LumA        & 4 & Positve  & ... & 0 & 0     & 0 & 0 & 0 & 0 & 0 & 0 & 0 & 0    \\\\\n",
       "\t 7279 & 86.14 & MASTECTOMY        & Breast Cancer & Breast Invasive Ductal Carcinoma  & High     & 0 & Her2        & 4 & Positve  & ... & 0 & 0     & 0 & 0 & 0 & 0 & 0 & 0 & 0 & T249A\\\\\n",
       "\t 7280 & 63.50 & MASTECTOMY        & Breast Cancer & Breast Invasive Ductal Carcinoma  & High     & 0 & LumA        & 4 & Positve  & ... & 0 & 0     & 0 & 0 & 0 & 0 & 0 & 0 & 0 & 0    \\\\\n",
       "\t 7281 & 51.22 & MASTECTOMY        & Breast Cancer & Breast Invasive Ductal Carcinoma  & Moderate & 1 & Her2        & 4 & Positve  & ... & 0 & 0     & 0 & 0 & 0 & 0 & 0 & 0 & 0 & 0    \\\\\n",
       "\t 7283 & 54.42 & BREAST CONSERVING & Breast Cancer & Breast Invasive Lobular Carcinoma & Moderate & 1 & LumB        & 4 & Positve  & ... & 0 & 0     & 0 & 0 & 0 & 0 & 0 & 0 & 0 & 0    \\\\\n",
       "\t 7284 & 61.23 & MASTECTOMY        & Breast Cancer & Breast Invasive Ductal Carcinoma  & High     & 0 & LumA        & 4 & Positve  & ... & 0 & 0     & 0 & 0 & 0 & 0 & 0 & 0 & 0 & 0    \\\\\n",
       "\t 7285 & 53.14 & BREAST CONSERVING & Breast Cancer & Breast Invasive Ductal Carcinoma  & Moderate & 0 & claudin-low & 4 & Positve  & ... & 0 & 0     & 0 & 0 & 0 & 0 & 0 & 0 & 0 & 0    \\\\\n",
       "\t 7286 & 66.48 & MASTECTOMY        & Breast Cancer & Breast Invasive Ductal Carcinoma  & High     & 0 & LumB        & 4 & Positve  & ... & 0 & 0     & 0 & 0 & 0 & 0 & 0 & 0 & 0 & 0    \\\\\n",
       "\t 7287 & 63.09 & MASTECTOMY        & Breast Cancer & Breast Invasive Ductal Carcinoma  & Moderate & 0 & LumB        & 4 & Positve  & ... & 0 & 0     & 0 & 0 & 0 & 0 & 0 & 0 & 0 & 0    \\\\\n",
       "\t 7288 & 55.70 & BREAST CONSERVING & Breast Cancer & Breast Invasive Ductal Carcinoma  & High     & 0 & LumB        & 4 & Positve  & ... & 0 & 0     & 0 & 0 & 0 & 0 & 0 & 0 & 0 & 0    \\\\\n",
       "\t 7289 & 51.87 & MASTECTOMY        & Breast Cancer & Breast Invasive Ductal Carcinoma  & Moderate & 0 & Normal      & 4 & Positve  & ... & 0 & 0     & 0 & 0 & 0 & 0 & 0 & 0 & 0 & 0    \\\\\n",
       "\t 7291 & 53.87 & MASTECTOMY        & Breast Cancer & Breast Invasive Ductal Carcinoma  & High     & 0 & claudin-low & 4 & Positve  & ... & 0 & 0     & 0 & 0 & 0 & 0 & 0 & 0 & 0 & 0    \\\\\n",
       "\t 7292 & 52.90 & BREAST CONSERVING & Breast Cancer & Breast Invasive Ductal Carcinoma  & High     & 0 & LumB        & 4 & Positve  & ... & 0 & 0     & 0 & 0 & 0 & 0 & 0 & 0 & 0 & 0    \\\\\n",
       "\t 7293 & 56.90 & MASTECTOMY        & Breast Cancer & Breast Invasive Ductal Carcinoma  & High     & 0 & LumA        & 4 & Positve  & ... & 0 & 0     & 0 & 0 & 0 & 0 & 0 & 0 & 0 & 0    \\\\\n",
       "\t 7294 & 59.20 & MASTECTOMY        & Breast Cancer & Breast Invasive Ductal Carcinoma  & High     & 0 & LumB        & 4 & Positve  & ... & 0 & 0     & 0 & 0 & 0 & 0 & 0 & 0 & 0 & 0    \\\\\n",
       "\t 7295 & 43.10 & BREAST CONSERVING & Breast Cancer & Breast Invasive Lobular Carcinoma & High     & 0 & LumA        & 4 & Positve  & ... & 0 & 0     & 0 & 0 & 0 & 0 & 0 & 0 & 0 & 0    \\\\\n",
       "\t 7296 & 42.88 & MASTECTOMY        & Breast Cancer & Breast Invasive Ductal Carcinoma  & High     & 0 & LumB        & 4 & Positve  & ... & 0 & 0     & 0 & 0 & 0 & 0 & 0 & 0 & 0 & 0    \\\\\n",
       "\t 7297 & 62.90 & MASTECTOMY        & Breast Cancer & Breast Invasive Ductal Carcinoma  & High     & 0 & LumB        & 4 & Positve  & ... & 0 & 0     & 0 & 0 & 0 & 0 & 0 & 0 & 0 & 0    \\\\\n",
       "\t 7298 & 61.16 & MASTECTOMY        & Breast Cancer & Breast Invasive Ductal Carcinoma  & Moderate & 0 & LumB        & 4 & Positve  & ... & 0 & 0     & 0 & 0 & 0 & 0 & 0 & 0 & 0 & 0    \\\\\n",
       "\t 7299 & 60.02 & BREAST CONSERVING & Breast Cancer & Breast Invasive Ductal Carcinoma  & High     & 0 & LumB        & 4 & Positve  & ... & 0 & 0     & 0 & 0 & 0 & 0 & 0 & 0 & 0 & 0    \\\\\n",
       "\\end{tabular}\n"
      ],
      "text/markdown": [
       "\n",
       "A data.frame: 1904 × 693\n",
       "\n",
       "| patient_id &lt;int&gt; | age_at_diagnosis &lt;dbl&gt; | type_of_breast_surgery &lt;chr&gt; | cancer_type &lt;chr&gt; | cancer_type_detailed &lt;chr&gt; | cellularity &lt;chr&gt; | chemotherapy &lt;int&gt; | pam50_._claudin.low_subtype &lt;chr&gt; | cohort &lt;dbl&gt; | er_status_measured_by_ihc &lt;chr&gt; | ... ... | mtap_mut &lt;chr&gt; | ppp2cb_mut &lt;chr&gt; | smarcd1_mut &lt;chr&gt; | nras_mut &lt;chr&gt; | ndfip1_mut &lt;chr&gt; | hras_mut &lt;chr&gt; | prps2_mut &lt;chr&gt; | smarcb1_mut &lt;chr&gt; | stmn2_mut &lt;chr&gt; | siah1_mut &lt;chr&gt; |\n",
       "|---|---|---|---|---|---|---|---|---|---|---|---|---|---|---|---|---|---|---|---|---|\n",
       "|  0 | 75.65 | MASTECTOMY        | Breast Cancer | Breast Invasive Ductal Carcinoma          | <!----> | 0 | claudin-low | 1 | Positve  | ... | 0     | 0 | 0 | 0 | 0 | 0 | 0 | 0 | 0 | 0 |\n",
       "|  2 | 43.19 | BREAST CONSERVING | Breast Cancer | Breast Invasive Ductal Carcinoma          | High     | 0 | LumA        | 1 | Positve  | ... | 0     | 0 | 0 | 0 | 0 | 0 | 0 | 0 | 0 | 0 |\n",
       "|  5 | 48.87 | MASTECTOMY        | Breast Cancer | Breast Invasive Ductal Carcinoma          | High     | 1 | LumB        | 1 | Positve  | ... | 0     | 0 | 0 | 0 | 0 | 0 | 0 | 0 | 0 | 0 |\n",
       "|  6 | 47.68 | MASTECTOMY        | Breast Cancer | Breast Mixed Ductal and Lobular Carcinoma | Moderate | 1 | LumB        | 1 | Positve  | ... | 0     | 0 | 0 | 0 | 0 | 0 | 0 | 0 | 0 | 0 |\n",
       "|  8 | 76.97 | MASTECTOMY        | Breast Cancer | Breast Mixed Ductal and Lobular Carcinoma | High     | 1 | LumB        | 1 | Positve  | ... | 0     | 0 | 0 | 0 | 0 | 0 | 0 | 0 | 0 | 0 |\n",
       "| 10 | 78.77 | MASTECTOMY        | Breast Cancer | Breast Invasive Ductal Carcinoma          | Moderate | 0 | LumB        | 1 | Positve  | ... | 0     | 0 | 0 | 0 | 0 | 0 | 0 | 0 | 0 | 0 |\n",
       "| 14 | 56.45 | BREAST CONSERVING | Breast Cancer | Breast Invasive Ductal Carcinoma          | Moderate | 1 | LumB        | 1 | Positve  | ... | 0     | 0 | 0 | 0 | 0 | 0 | 0 | 0 | 0 | 0 |\n",
       "| 22 | 89.08 | BREAST CONSERVING | Breast Cancer | Breast Mixed Ductal and Lobular Carcinoma | Moderate | 0 | claudin-low | 1 | Positve  | ... | 0     | 0 | 0 | 0 | 0 | 0 | 0 | 0 | 0 | 0 |\n",
       "| 28 | 86.41 | BREAST CONSERVING | Breast Cancer | Breast Invasive Ductal Carcinoma          | Moderate | 0 | LumB        | 1 | Positve  | ... | 0     | 0 | 0 | 0 | 0 | 0 | 0 | 0 | 0 | 0 |\n",
       "| 35 | 84.22 | MASTECTOMY        | Breast Cancer | Breast Invasive Lobular Carcinoma         | High     | 0 | Her2        | 1 | Negative | ... | 0     | 0 | 0 | 0 | 0 | 0 | 0 | 0 | 0 | 0 |\n",
       "| 36 | 85.49 | MASTECTOMY        | Breast Cancer | Breast Invasive Ductal Carcinoma          | Moderate | 0 | LumA        | 1 | Positve  | ... | 0     | 0 | 0 | 0 | 0 | 0 | 0 | 0 | 0 | 0 |\n",
       "| 39 | 70.91 | BREAST CONSERVING | Breast Cancer | Breast Invasive Ductal Carcinoma          | High     | 0 | LumB        | 1 | Positve  | ... | 0     | 0 | 0 | 0 | 0 | 0 | 0 | 0 | 0 | 0 |\n",
       "| 45 | 45.27 | MASTECTOMY        | Breast Cancer | Breast Invasive Ductal Carcinoma          | High     | 1 | claudin-low | 1 | Negative | ... | 0     | 0 | 0 | 0 | 0 | 0 | 0 | 0 | 0 | 0 |\n",
       "| 46 | 83.02 | MASTECTOMY        | Breast Cancer | Breast Invasive Ductal Carcinoma          | High     | 0 | LumA        | 1 | Positve  | ... | 0     | 0 | 0 | 0 | 0 | 0 | 0 | 0 | 0 | 0 |\n",
       "| 48 | 51.46 | BREAST CONSERVING | Breast Cancer | Breast Invasive Ductal Carcinoma          | Low      | 1 | claudin-low | 1 | Positve  | ... | 0     | 0 | 0 | 0 | 0 | 0 | 0 | 0 | 0 | 0 |\n",
       "| 50 | 44.64 | BREAST CONSERVING | Breast Cancer | Breast Mixed Ductal and Lobular Carcinoma | Moderate | 1 | Normal      | 1 | Positve  | ... | 0     | 0 | 0 | 0 | 0 | 0 | 0 | 0 | 0 | 0 |\n",
       "| 53 | 70.02 | BREAST CONSERVING | Breast Cancer | Breast Invasive Ductal Carcinoma          | High     | 0 | LumB        | 1 | Positve  | ... | 0     | 0 | 0 | 0 | 0 | 0 | 0 | 0 | 0 | 0 |\n",
       "| 54 | 66.91 | MASTECTOMY        | Breast Cancer | Breast Invasive Ductal Carcinoma          | Moderate | 0 | LumB        | 1 | Positve  | ... | I255L | 0 | 0 | 0 | 0 | 0 | 0 | 0 | 0 | 0 |\n",
       "| 56 | 62.62 | MASTECTOMY        | Breast Cancer | Breast Mixed Ductal and Lobular Carcinoma | High     | 0 | LumB        | 1 | Positve  | ... | 0     | 0 | 0 | 0 | 0 | 0 | 0 | 0 | 0 | 0 |\n",
       "| 60 | 45.43 | BREAST CONSERVING | Breast Cancer | Breast Invasive Ductal Carcinoma          | High     | 1 | LumB        | 1 | Positve  | ... | 0     | 0 | 0 | 0 | 0 | 0 | 0 | 0 | 0 | 0 |\n",
       "| 62 | 52.14 | MASTECTOMY        | Breast Cancer | Breast Invasive Ductal Carcinoma          | High     | 1 | Basal       | 1 | Negative | ... | 0     | 0 | 0 | 0 | 0 | 0 | 0 | 0 | 0 | 0 |\n",
       "| 64 | 69.13 | BREAST CONSERVING | Breast Cancer | Breast Invasive Ductal Carcinoma          | Moderate | 0 | LumB        | 1 | Positve  | ... | 0     | 0 | 0 | 0 | 0 | 0 | 0 | 0 | 0 | 0 |\n",
       "| 66 | 61.49 | BREAST CONSERVING | Breast Cancer | Breast Invasive Ductal Carcinoma          | High     | 0 | LumB        | 1 | Positve  | ... | 0     | 0 | 0 | 0 | 0 | 0 | 0 | 0 | 0 | 0 |\n",
       "| 68 | 51.01 | BREAST CONSERVING | Breast Cancer | Breast Invasive Ductal Carcinoma          | High     | 0 | LumA        | 1 | Positve  | ... | 0     | 0 | 0 | 0 | 0 | 0 | 0 | 0 | 0 | 0 |\n",
       "| 79 | 50.42 | MASTECTOMY        | Breast Cancer | Breast Invasive Ductal Carcinoma          | High     | 1 | Her2        | 1 | Negative | ... | 0     | 0 | 0 | 0 | 0 | 0 | 0 | 0 | 0 | 0 |\n",
       "| 81 | 49.61 | BREAST CONSERVING | Breast Cancer | Breast Invasive Ductal Carcinoma          | Moderate | 0 | claudin-low | 1 | Positve  | ... | 0     | 0 | 0 | 0 | 0 | 0 | 0 | 0 | 0 | 0 |\n",
       "| 83 | 64.85 | BREAST CONSERVING | Breast Cancer | Breast Invasive Lobular Carcinoma         | Moderate | 0 | LumB        | 1 | Positve  | ... | 0     | 0 | 0 | 0 | 0 | 0 | 0 | 0 | 0 | 0 |\n",
       "| 93 | 43.55 | BREAST CONSERVING | Breast Cancer | Breast Mixed Ductal and Lobular Carcinoma | High     | 0 | LumB        | 1 | Positve  | ... | 0     | 0 | 0 | 0 | 0 | 0 | 0 | 0 | 0 | 0 |\n",
       "| 95 | 80.50 | MASTECTOMY        | Breast Cancer | Breast Invasive Ductal Carcinoma          | High     | 0 | LumB        | 1 | Positve  | ... | 0     | 0 | 0 | 0 | 0 | 0 | 0 | 0 | 0 | 0 |\n",
       "| 97 | 78.19 | MASTECTOMY        | Breast Cancer | Breast Invasive Ductal Carcinoma          | High     | 0 | LumA        | 1 | Positve  | ... | 0     | 0 | 0 | 0 | 0 | 0 | 0 | 0 | 0 | 0 |\n",
       "| ... | ... | ... | ... | ... | ... | ... | ... | ... | ... | <!----> | ... | ... | ... | ... | ... | ... | ... | ... | ... | ... |\n",
       "| 7264 | 60.57 | BREAST CONSERVING | Breast Cancer | Breast Invasive Ductal Carcinoma  | Moderate | 0 | Normal      | 4 | Positve  | ... | 0 | 0     | 0 | 0 | 0 | 0 | 0 | 0 | 0 | 0     |\n",
       "| 7266 | 59.82 | BREAST CONSERVING | Breast Cancer | Breast Invasive Ductal Carcinoma  | Moderate | 0 | LumB        | 4 | Positve  | ... | 0 | 0     | 0 | 0 | 0 | 0 | 0 | 0 | 0 | 0     |\n",
       "| 7267 | 28.37 | MASTECTOMY        | Breast Cancer | Breast Invasive Ductal Carcinoma  | Moderate | 1 | Basal       | 4 | Negative | ... | 0 | 0     | 0 | 0 | 0 | 0 | 0 | 0 | 0 | 0     |\n",
       "| 7268 | 34.64 | MASTECTOMY        | Breast Cancer | Breast Invasive Ductal Carcinoma  | Moderate | 0 | LumA        | 4 | Positve  | ... | 0 | 0     | 0 | 0 | 0 | 0 | 0 | 0 | 0 | 0     |\n",
       "| 7269 | 36.60 | BREAST CONSERVING | Breast Cancer | Breast Invasive Ductal Carcinoma  | Moderate | 1 | Basal       | 4 | Negative | ... | 0 | R110C | 0 | 0 | 0 | 0 | 0 | 0 | 0 | 0     |\n",
       "| 7270 | 50.84 | MASTECTOMY        | Breast Cancer | Breast Invasive Ductal Carcinoma  | High     | 1 | Basal       | 4 | Negative | ... | 0 | 0     | 0 | 0 | 0 | 0 | 0 | 0 | 0 | 0     |\n",
       "| 7273 | 47.47 | BREAST CONSERVING | Breast Cancer | Breast Invasive Lobular Carcinoma | High     | 1 | Her2        | 4 | Negative | ... | 0 | 0     | 0 | 0 | 0 | 0 | 0 | 0 | 0 | 0     |\n",
       "| 7275 | 30.02 | MASTECTOMY        | Breast Cancer | Breast Invasive Ductal Carcinoma  | High     | 1 | Her2        | 4 | Negative | ... | 0 | 0     | 0 | 0 | 0 | 0 | 0 | 0 | 0 | 0     |\n",
       "| 7276 | 61.27 | BREAST CONSERVING | Breast Cancer | Breast Invasive Ductal Carcinoma  | High     | 0 | LumA        | 4 | Positve  | ... | 0 | 0     | 0 | 0 | 0 | 0 | 0 | 0 | 0 | 0     |\n",
       "| 7277 | 56.78 | MASTECTOMY        | Breast Cancer | Breast Invasive Ductal Carcinoma  | High     | 0 | LumA        | 4 | Positve  | ... | 0 | 0     | 0 | 0 | 0 | 0 | 0 | 0 | 0 | 0     |\n",
       "| 7278 | 67.89 | MASTECTOMY        | Breast Cancer | Breast Invasive Ductal Carcinoma  | High     | 0 | LumA        | 4 | Positve  | ... | 0 | 0     | 0 | 0 | 0 | 0 | 0 | 0 | 0 | 0     |\n",
       "| 7279 | 86.14 | MASTECTOMY        | Breast Cancer | Breast Invasive Ductal Carcinoma  | High     | 0 | Her2        | 4 | Positve  | ... | 0 | 0     | 0 | 0 | 0 | 0 | 0 | 0 | 0 | T249A |\n",
       "| 7280 | 63.50 | MASTECTOMY        | Breast Cancer | Breast Invasive Ductal Carcinoma  | High     | 0 | LumA        | 4 | Positve  | ... | 0 | 0     | 0 | 0 | 0 | 0 | 0 | 0 | 0 | 0     |\n",
       "| 7281 | 51.22 | MASTECTOMY        | Breast Cancer | Breast Invasive Ductal Carcinoma  | Moderate | 1 | Her2        | 4 | Positve  | ... | 0 | 0     | 0 | 0 | 0 | 0 | 0 | 0 | 0 | 0     |\n",
       "| 7283 | 54.42 | BREAST CONSERVING | Breast Cancer | Breast Invasive Lobular Carcinoma | Moderate | 1 | LumB        | 4 | Positve  | ... | 0 | 0     | 0 | 0 | 0 | 0 | 0 | 0 | 0 | 0     |\n",
       "| 7284 | 61.23 | MASTECTOMY        | Breast Cancer | Breast Invasive Ductal Carcinoma  | High     | 0 | LumA        | 4 | Positve  | ... | 0 | 0     | 0 | 0 | 0 | 0 | 0 | 0 | 0 | 0     |\n",
       "| 7285 | 53.14 | BREAST CONSERVING | Breast Cancer | Breast Invasive Ductal Carcinoma  | Moderate | 0 | claudin-low | 4 | Positve  | ... | 0 | 0     | 0 | 0 | 0 | 0 | 0 | 0 | 0 | 0     |\n",
       "| 7286 | 66.48 | MASTECTOMY        | Breast Cancer | Breast Invasive Ductal Carcinoma  | High     | 0 | LumB        | 4 | Positve  | ... | 0 | 0     | 0 | 0 | 0 | 0 | 0 | 0 | 0 | 0     |\n",
       "| 7287 | 63.09 | MASTECTOMY        | Breast Cancer | Breast Invasive Ductal Carcinoma  | Moderate | 0 | LumB        | 4 | Positve  | ... | 0 | 0     | 0 | 0 | 0 | 0 | 0 | 0 | 0 | 0     |\n",
       "| 7288 | 55.70 | BREAST CONSERVING | Breast Cancer | Breast Invasive Ductal Carcinoma  | High     | 0 | LumB        | 4 | Positve  | ... | 0 | 0     | 0 | 0 | 0 | 0 | 0 | 0 | 0 | 0     |\n",
       "| 7289 | 51.87 | MASTECTOMY        | Breast Cancer | Breast Invasive Ductal Carcinoma  | Moderate | 0 | Normal      | 4 | Positve  | ... | 0 | 0     | 0 | 0 | 0 | 0 | 0 | 0 | 0 | 0     |\n",
       "| 7291 | 53.87 | MASTECTOMY        | Breast Cancer | Breast Invasive Ductal Carcinoma  | High     | 0 | claudin-low | 4 | Positve  | ... | 0 | 0     | 0 | 0 | 0 | 0 | 0 | 0 | 0 | 0     |\n",
       "| 7292 | 52.90 | BREAST CONSERVING | Breast Cancer | Breast Invasive Ductal Carcinoma  | High     | 0 | LumB        | 4 | Positve  | ... | 0 | 0     | 0 | 0 | 0 | 0 | 0 | 0 | 0 | 0     |\n",
       "| 7293 | 56.90 | MASTECTOMY        | Breast Cancer | Breast Invasive Ductal Carcinoma  | High     | 0 | LumA        | 4 | Positve  | ... | 0 | 0     | 0 | 0 | 0 | 0 | 0 | 0 | 0 | 0     |\n",
       "| 7294 | 59.20 | MASTECTOMY        | Breast Cancer | Breast Invasive Ductal Carcinoma  | High     | 0 | LumB        | 4 | Positve  | ... | 0 | 0     | 0 | 0 | 0 | 0 | 0 | 0 | 0 | 0     |\n",
       "| 7295 | 43.10 | BREAST CONSERVING | Breast Cancer | Breast Invasive Lobular Carcinoma | High     | 0 | LumA        | 4 | Positve  | ... | 0 | 0     | 0 | 0 | 0 | 0 | 0 | 0 | 0 | 0     |\n",
       "| 7296 | 42.88 | MASTECTOMY        | Breast Cancer | Breast Invasive Ductal Carcinoma  | High     | 0 | LumB        | 4 | Positve  | ... | 0 | 0     | 0 | 0 | 0 | 0 | 0 | 0 | 0 | 0     |\n",
       "| 7297 | 62.90 | MASTECTOMY        | Breast Cancer | Breast Invasive Ductal Carcinoma  | High     | 0 | LumB        | 4 | Positve  | ... | 0 | 0     | 0 | 0 | 0 | 0 | 0 | 0 | 0 | 0     |\n",
       "| 7298 | 61.16 | MASTECTOMY        | Breast Cancer | Breast Invasive Ductal Carcinoma  | Moderate | 0 | LumB        | 4 | Positve  | ... | 0 | 0     | 0 | 0 | 0 | 0 | 0 | 0 | 0 | 0     |\n",
       "| 7299 | 60.02 | BREAST CONSERVING | Breast Cancer | Breast Invasive Ductal Carcinoma  | High     | 0 | LumB        | 4 | Positve  | ... | 0 | 0     | 0 | 0 | 0 | 0 | 0 | 0 | 0 | 0     |\n",
       "\n"
      ],
      "text/plain": [
       "     patient_id age_at_diagnosis type_of_breast_surgery cancer_type  \n",
       "1     0         75.65            MASTECTOMY             Breast Cancer\n",
       "2     2         43.19            BREAST CONSERVING      Breast Cancer\n",
       "3     5         48.87            MASTECTOMY             Breast Cancer\n",
       "4     6         47.68            MASTECTOMY             Breast Cancer\n",
       "5     8         76.97            MASTECTOMY             Breast Cancer\n",
       "6    10         78.77            MASTECTOMY             Breast Cancer\n",
       "7    14         56.45            BREAST CONSERVING      Breast Cancer\n",
       "8    22         89.08            BREAST CONSERVING      Breast Cancer\n",
       "9    28         86.41            BREAST CONSERVING      Breast Cancer\n",
       "10   35         84.22            MASTECTOMY             Breast Cancer\n",
       "11   36         85.49            MASTECTOMY             Breast Cancer\n",
       "12   39         70.91            BREAST CONSERVING      Breast Cancer\n",
       "13   45         45.27            MASTECTOMY             Breast Cancer\n",
       "14   46         83.02            MASTECTOMY             Breast Cancer\n",
       "15   48         51.46            BREAST CONSERVING      Breast Cancer\n",
       "16   50         44.64            BREAST CONSERVING      Breast Cancer\n",
       "17   53         70.02            BREAST CONSERVING      Breast Cancer\n",
       "18   54         66.91            MASTECTOMY             Breast Cancer\n",
       "19   56         62.62            MASTECTOMY             Breast Cancer\n",
       "20   60         45.43            BREAST CONSERVING      Breast Cancer\n",
       "21   62         52.14            MASTECTOMY             Breast Cancer\n",
       "22   64         69.13            BREAST CONSERVING      Breast Cancer\n",
       "23   66         61.49            BREAST CONSERVING      Breast Cancer\n",
       "24   68         51.01            BREAST CONSERVING      Breast Cancer\n",
       "25   79         50.42            MASTECTOMY             Breast Cancer\n",
       "26   81         49.61            BREAST CONSERVING      Breast Cancer\n",
       "27   83         64.85            BREAST CONSERVING      Breast Cancer\n",
       "28   93         43.55            BREAST CONSERVING      Breast Cancer\n",
       "29   95         80.50            MASTECTOMY             Breast Cancer\n",
       "30   97         78.19            MASTECTOMY             Breast Cancer\n",
       "...  ...        ...              ...                    ...          \n",
       "1875 7264       60.57            BREAST CONSERVING      Breast Cancer\n",
       "1876 7266       59.82            BREAST CONSERVING      Breast Cancer\n",
       "1877 7267       28.37            MASTECTOMY             Breast Cancer\n",
       "1878 7268       34.64            MASTECTOMY             Breast Cancer\n",
       "1879 7269       36.60            BREAST CONSERVING      Breast Cancer\n",
       "1880 7270       50.84            MASTECTOMY             Breast Cancer\n",
       "1881 7273       47.47            BREAST CONSERVING      Breast Cancer\n",
       "1882 7275       30.02            MASTECTOMY             Breast Cancer\n",
       "1883 7276       61.27            BREAST CONSERVING      Breast Cancer\n",
       "1884 7277       56.78            MASTECTOMY             Breast Cancer\n",
       "1885 7278       67.89            MASTECTOMY             Breast Cancer\n",
       "1886 7279       86.14            MASTECTOMY             Breast Cancer\n",
       "1887 7280       63.50            MASTECTOMY             Breast Cancer\n",
       "1888 7281       51.22            MASTECTOMY             Breast Cancer\n",
       "1889 7283       54.42            BREAST CONSERVING      Breast Cancer\n",
       "1890 7284       61.23            MASTECTOMY             Breast Cancer\n",
       "1891 7285       53.14            BREAST CONSERVING      Breast Cancer\n",
       "1892 7286       66.48            MASTECTOMY             Breast Cancer\n",
       "1893 7287       63.09            MASTECTOMY             Breast Cancer\n",
       "1894 7288       55.70            BREAST CONSERVING      Breast Cancer\n",
       "1895 7289       51.87            MASTECTOMY             Breast Cancer\n",
       "1896 7291       53.87            MASTECTOMY             Breast Cancer\n",
       "1897 7292       52.90            BREAST CONSERVING      Breast Cancer\n",
       "1898 7293       56.90            MASTECTOMY             Breast Cancer\n",
       "1899 7294       59.20            MASTECTOMY             Breast Cancer\n",
       "1900 7295       43.10            BREAST CONSERVING      Breast Cancer\n",
       "1901 7296       42.88            MASTECTOMY             Breast Cancer\n",
       "1902 7297       62.90            MASTECTOMY             Breast Cancer\n",
       "1903 7298       61.16            MASTECTOMY             Breast Cancer\n",
       "1904 7299       60.02            BREAST CONSERVING      Breast Cancer\n",
       "     cancer_type_detailed                      cellularity chemotherapy\n",
       "1    Breast Invasive Ductal Carcinoma                      0           \n",
       "2    Breast Invasive Ductal Carcinoma          High        0           \n",
       "3    Breast Invasive Ductal Carcinoma          High        1           \n",
       "4    Breast Mixed Ductal and Lobular Carcinoma Moderate    1           \n",
       "5    Breast Mixed Ductal and Lobular Carcinoma High        1           \n",
       "6    Breast Invasive Ductal Carcinoma          Moderate    0           \n",
       "7    Breast Invasive Ductal Carcinoma          Moderate    1           \n",
       "8    Breast Mixed Ductal and Lobular Carcinoma Moderate    0           \n",
       "9    Breast Invasive Ductal Carcinoma          Moderate    0           \n",
       "10   Breast Invasive Lobular Carcinoma         High        0           \n",
       "11   Breast Invasive Ductal Carcinoma          Moderate    0           \n",
       "12   Breast Invasive Ductal Carcinoma          High        0           \n",
       "13   Breast Invasive Ductal Carcinoma          High        1           \n",
       "14   Breast Invasive Ductal Carcinoma          High        0           \n",
       "15   Breast Invasive Ductal Carcinoma          Low         1           \n",
       "16   Breast Mixed Ductal and Lobular Carcinoma Moderate    1           \n",
       "17   Breast Invasive Ductal Carcinoma          High        0           \n",
       "18   Breast Invasive Ductal Carcinoma          Moderate    0           \n",
       "19   Breast Mixed Ductal and Lobular Carcinoma High        0           \n",
       "20   Breast Invasive Ductal Carcinoma          High        1           \n",
       "21   Breast Invasive Ductal Carcinoma          High        1           \n",
       "22   Breast Invasive Ductal Carcinoma          Moderate    0           \n",
       "23   Breast Invasive Ductal Carcinoma          High        0           \n",
       "24   Breast Invasive Ductal Carcinoma          High        0           \n",
       "25   Breast Invasive Ductal Carcinoma          High        1           \n",
       "26   Breast Invasive Ductal Carcinoma          Moderate    0           \n",
       "27   Breast Invasive Lobular Carcinoma         Moderate    0           \n",
       "28   Breast Mixed Ductal and Lobular Carcinoma High        0           \n",
       "29   Breast Invasive Ductal Carcinoma          High        0           \n",
       "30   Breast Invasive Ductal Carcinoma          High        0           \n",
       "...  ...                                       ...         ...         \n",
       "1875 Breast Invasive Ductal Carcinoma          Moderate    0           \n",
       "1876 Breast Invasive Ductal Carcinoma          Moderate    0           \n",
       "1877 Breast Invasive Ductal Carcinoma          Moderate    1           \n",
       "1878 Breast Invasive Ductal Carcinoma          Moderate    0           \n",
       "1879 Breast Invasive Ductal Carcinoma          Moderate    1           \n",
       "1880 Breast Invasive Ductal Carcinoma          High        1           \n",
       "1881 Breast Invasive Lobular Carcinoma         High        1           \n",
       "1882 Breast Invasive Ductal Carcinoma          High        1           \n",
       "1883 Breast Invasive Ductal Carcinoma          High        0           \n",
       "1884 Breast Invasive Ductal Carcinoma          High        0           \n",
       "1885 Breast Invasive Ductal Carcinoma          High        0           \n",
       "1886 Breast Invasive Ductal Carcinoma          High        0           \n",
       "1887 Breast Invasive Ductal Carcinoma          High        0           \n",
       "1888 Breast Invasive Ductal Carcinoma          Moderate    1           \n",
       "1889 Breast Invasive Lobular Carcinoma         Moderate    1           \n",
       "1890 Breast Invasive Ductal Carcinoma          High        0           \n",
       "1891 Breast Invasive Ductal Carcinoma          Moderate    0           \n",
       "1892 Breast Invasive Ductal Carcinoma          High        0           \n",
       "1893 Breast Invasive Ductal Carcinoma          Moderate    0           \n",
       "1894 Breast Invasive Ductal Carcinoma          High        0           \n",
       "1895 Breast Invasive Ductal Carcinoma          Moderate    0           \n",
       "1896 Breast Invasive Ductal Carcinoma          High        0           \n",
       "1897 Breast Invasive Ductal Carcinoma          High        0           \n",
       "1898 Breast Invasive Ductal Carcinoma          High        0           \n",
       "1899 Breast Invasive Ductal Carcinoma          High        0           \n",
       "1900 Breast Invasive Lobular Carcinoma         High        0           \n",
       "1901 Breast Invasive Ductal Carcinoma          High        0           \n",
       "1902 Breast Invasive Ductal Carcinoma          High        0           \n",
       "1903 Breast Invasive Ductal Carcinoma          Moderate    0           \n",
       "1904 Breast Invasive Ductal Carcinoma          High        0           \n",
       "     pam50_._claudin.low_subtype cohort er_status_measured_by_ihc ... mtap_mut\n",
       "1    claudin-low                 1      Positve                   ... 0       \n",
       "2    LumA                        1      Positve                   ... 0       \n",
       "3    LumB                        1      Positve                   ... 0       \n",
       "4    LumB                        1      Positve                   ... 0       \n",
       "5    LumB                        1      Positve                   ... 0       \n",
       "6    LumB                        1      Positve                   ... 0       \n",
       "7    LumB                        1      Positve                   ... 0       \n",
       "8    claudin-low                 1      Positve                   ... 0       \n",
       "9    LumB                        1      Positve                   ... 0       \n",
       "10   Her2                        1      Negative                  ... 0       \n",
       "11   LumA                        1      Positve                   ... 0       \n",
       "12   LumB                        1      Positve                   ... 0       \n",
       "13   claudin-low                 1      Negative                  ... 0       \n",
       "14   LumA                        1      Positve                   ... 0       \n",
       "15   claudin-low                 1      Positve                   ... 0       \n",
       "16   Normal                      1      Positve                   ... 0       \n",
       "17   LumB                        1      Positve                   ... 0       \n",
       "18   LumB                        1      Positve                   ... I255L   \n",
       "19   LumB                        1      Positve                   ... 0       \n",
       "20   LumB                        1      Positve                   ... 0       \n",
       "21   Basal                       1      Negative                  ... 0       \n",
       "22   LumB                        1      Positve                   ... 0       \n",
       "23   LumB                        1      Positve                   ... 0       \n",
       "24   LumA                        1      Positve                   ... 0       \n",
       "25   Her2                        1      Negative                  ... 0       \n",
       "26   claudin-low                 1      Positve                   ... 0       \n",
       "27   LumB                        1      Positve                   ... 0       \n",
       "28   LumB                        1      Positve                   ... 0       \n",
       "29   LumB                        1      Positve                   ... 0       \n",
       "30   LumA                        1      Positve                   ... 0       \n",
       "...  ...                         ...    ...                           ...     \n",
       "1875 Normal                      4      Positve                   ... 0       \n",
       "1876 LumB                        4      Positve                   ... 0       \n",
       "1877 Basal                       4      Negative                  ... 0       \n",
       "1878 LumA                        4      Positve                   ... 0       \n",
       "1879 Basal                       4      Negative                  ... 0       \n",
       "1880 Basal                       4      Negative                  ... 0       \n",
       "1881 Her2                        4      Negative                  ... 0       \n",
       "1882 Her2                        4      Negative                  ... 0       \n",
       "1883 LumA                        4      Positve                   ... 0       \n",
       "1884 LumA                        4      Positve                   ... 0       \n",
       "1885 LumA                        4      Positve                   ... 0       \n",
       "1886 Her2                        4      Positve                   ... 0       \n",
       "1887 LumA                        4      Positve                   ... 0       \n",
       "1888 Her2                        4      Positve                   ... 0       \n",
       "1889 LumB                        4      Positve                   ... 0       \n",
       "1890 LumA                        4      Positve                   ... 0       \n",
       "1891 claudin-low                 4      Positve                   ... 0       \n",
       "1892 LumB                        4      Positve                   ... 0       \n",
       "1893 LumB                        4      Positve                   ... 0       \n",
       "1894 LumB                        4      Positve                   ... 0       \n",
       "1895 Normal                      4      Positve                   ... 0       \n",
       "1896 claudin-low                 4      Positve                   ... 0       \n",
       "1897 LumB                        4      Positve                   ... 0       \n",
       "1898 LumA                        4      Positve                   ... 0       \n",
       "1899 LumB                        4      Positve                   ... 0       \n",
       "1900 LumA                        4      Positve                   ... 0       \n",
       "1901 LumB                        4      Positve                   ... 0       \n",
       "1902 LumB                        4      Positve                   ... 0       \n",
       "1903 LumB                        4      Positve                   ... 0       \n",
       "1904 LumB                        4      Positve                   ... 0       \n",
       "     ppp2cb_mut smarcd1_mut nras_mut ndfip1_mut hras_mut prps2_mut smarcb1_mut\n",
       "1    0          0           0        0          0        0         0          \n",
       "2    0          0           0        0          0        0         0          \n",
       "3    0          0           0        0          0        0         0          \n",
       "4    0          0           0        0          0        0         0          \n",
       "5    0          0           0        0          0        0         0          \n",
       "6    0          0           0        0          0        0         0          \n",
       "7    0          0           0        0          0        0         0          \n",
       "8    0          0           0        0          0        0         0          \n",
       "9    0          0           0        0          0        0         0          \n",
       "10   0          0           0        0          0        0         0          \n",
       "11   0          0           0        0          0        0         0          \n",
       "12   0          0           0        0          0        0         0          \n",
       "13   0          0           0        0          0        0         0          \n",
       "14   0          0           0        0          0        0         0          \n",
       "15   0          0           0        0          0        0         0          \n",
       "16   0          0           0        0          0        0         0          \n",
       "17   0          0           0        0          0        0         0          \n",
       "18   0          0           0        0          0        0         0          \n",
       "19   0          0           0        0          0        0         0          \n",
       "20   0          0           0        0          0        0         0          \n",
       "21   0          0           0        0          0        0         0          \n",
       "22   0          0           0        0          0        0         0          \n",
       "23   0          0           0        0          0        0         0          \n",
       "24   0          0           0        0          0        0         0          \n",
       "25   0          0           0        0          0        0         0          \n",
       "26   0          0           0        0          0        0         0          \n",
       "27   0          0           0        0          0        0         0          \n",
       "28   0          0           0        0          0        0         0          \n",
       "29   0          0           0        0          0        0         0          \n",
       "30   0          0           0        0          0        0         0          \n",
       "...  ...        ...         ...      ...        ...      ...       ...        \n",
       "1875 0          0           0        0          0        0         0          \n",
       "1876 0          0           0        0          0        0         0          \n",
       "1877 0          0           0        0          0        0         0          \n",
       "1878 0          0           0        0          0        0         0          \n",
       "1879 R110C      0           0        0          0        0         0          \n",
       "1880 0          0           0        0          0        0         0          \n",
       "1881 0          0           0        0          0        0         0          \n",
       "1882 0          0           0        0          0        0         0          \n",
       "1883 0          0           0        0          0        0         0          \n",
       "1884 0          0           0        0          0        0         0          \n",
       "1885 0          0           0        0          0        0         0          \n",
       "1886 0          0           0        0          0        0         0          \n",
       "1887 0          0           0        0          0        0         0          \n",
       "1888 0          0           0        0          0        0         0          \n",
       "1889 0          0           0        0          0        0         0          \n",
       "1890 0          0           0        0          0        0         0          \n",
       "1891 0          0           0        0          0        0         0          \n",
       "1892 0          0           0        0          0        0         0          \n",
       "1893 0          0           0        0          0        0         0          \n",
       "1894 0          0           0        0          0        0         0          \n",
       "1895 0          0           0        0          0        0         0          \n",
       "1896 0          0           0        0          0        0         0          \n",
       "1897 0          0           0        0          0        0         0          \n",
       "1898 0          0           0        0          0        0         0          \n",
       "1899 0          0           0        0          0        0         0          \n",
       "1900 0          0           0        0          0        0         0          \n",
       "1901 0          0           0        0          0        0         0          \n",
       "1902 0          0           0        0          0        0         0          \n",
       "1903 0          0           0        0          0        0         0          \n",
       "1904 0          0           0        0          0        0         0          \n",
       "     stmn2_mut siah1_mut\n",
       "1    0         0        \n",
       "2    0         0        \n",
       "3    0         0        \n",
       "4    0         0        \n",
       "5    0         0        \n",
       "6    0         0        \n",
       "7    0         0        \n",
       "8    0         0        \n",
       "9    0         0        \n",
       "10   0         0        \n",
       "11   0         0        \n",
       "12   0         0        \n",
       "13   0         0        \n",
       "14   0         0        \n",
       "15   0         0        \n",
       "16   0         0        \n",
       "17   0         0        \n",
       "18   0         0        \n",
       "19   0         0        \n",
       "20   0         0        \n",
       "21   0         0        \n",
       "22   0         0        \n",
       "23   0         0        \n",
       "24   0         0        \n",
       "25   0         0        \n",
       "26   0         0        \n",
       "27   0         0        \n",
       "28   0         0        \n",
       "29   0         0        \n",
       "30   0         0        \n",
       "...  ...       ...      \n",
       "1875 0         0        \n",
       "1876 0         0        \n",
       "1877 0         0        \n",
       "1878 0         0        \n",
       "1879 0         0        \n",
       "1880 0         0        \n",
       "1881 0         0        \n",
       "1882 0         0        \n",
       "1883 0         0        \n",
       "1884 0         0        \n",
       "1885 0         0        \n",
       "1886 0         T249A    \n",
       "1887 0         0        \n",
       "1888 0         0        \n",
       "1889 0         0        \n",
       "1890 0         0        \n",
       "1891 0         0        \n",
       "1892 0         0        \n",
       "1893 0         0        \n",
       "1894 0         0        \n",
       "1895 0         0        \n",
       "1896 0         0        \n",
       "1897 0         0        \n",
       "1898 0         0        \n",
       "1899 0         0        \n",
       "1900 0         0        \n",
       "1901 0         0        \n",
       "1902 0         0        \n",
       "1903 0         0        \n",
       "1904 0         0        "
      ]
     },
     "metadata": {},
     "output_type": "display_data"
    }
   ],
   "source": [
    "df <- read.csv(\"METABRIC_RNA_Mutation.csv\")\n",
    "df"
   ]
  },
  {
   "cell_type": "markdown",
   "id": "e5caac48",
   "metadata": {},
   "source": [
    "I will choose the column called `age_at_diagnosis`. It represents how old were the people, when they got breast cancer diagnosis. This is one of numerical (double) columns in this dataset that is meaningful for people, who isn't connected to medicine itself. It is interesting to find age of patients statistics metrics."
   ]
  },
  {
   "cell_type": "code",
   "execution_count": 2,
   "id": "1d888fc2",
   "metadata": {},
   "outputs": [],
   "source": [
    "#data <- as.vector(df[['age_at_diagnosis']]) # we can do it this way too\n",
    "data <- as.vector(df$age_at_diagnosis)"
   ]
  },
  {
   "cell_type": "code",
   "execution_count": 3,
   "id": "cfff7c76",
   "metadata": {},
   "outputs": [
    {
     "name": "stdout",
     "output_type": "stream",
     "text": [
      "[1] \"numeric\"\n",
      "[1] \"double\"\n"
     ]
    }
   ],
   "source": [
    "print(class(data))\n",
    "print(typeof(data))"
   ]
  },
  {
   "cell_type": "markdown",
   "id": "7e44a2a0",
   "metadata": {},
   "source": [
    "## Step 1: find base estimators\n",
    "\n",
    "_Note:_ here we think, that we are having not all the population items, but we are working with sample, so we can find only estimators values. Later we will assume, that data distribution can be normal.\n",
    "\n",
    "__Sample mean:__\n",
    "\n",
    "$$\\overline{X} = \\frac{1}{N}(X_1+...X_N)$$\n"
   ]
  },
  {
   "cell_type": "code",
   "execution_count": 4,
   "id": "037084ee",
   "metadata": {},
   "outputs": [
    {
     "data": {
      "text/html": [
       "61.0870535714286"
      ],
      "text/latex": [
       "61.0870535714286"
      ],
      "text/markdown": [
       "61.0870535714286"
      ],
      "text/plain": [
       "[1] 61.08705"
      ]
     },
     "metadata": {},
     "output_type": "display_data"
    }
   ],
   "source": [
    "# using function\n",
    "mean(data)"
   ]
  },
  {
   "cell_type": "code",
   "execution_count": 5,
   "id": "0e690801",
   "metadata": {},
   "outputs": [
    {
     "name": "stdout",
     "output_type": "stream",
     "text": [
      "[1] 61.08705\n"
     ]
    }
   ],
   "source": [
    "# using formula\n",
    "\n",
    "suming = 0\n",
    "\n",
    "for (d in data)\n",
    "{\n",
    "    suming <- suming + d\n",
    "}\n",
    "\n",
    "m <- suming / length(data)\n",
    "\n",
    "print(m)"
   ]
  },
  {
   "cell_type": "markdown",
   "id": "6843a6a7",
   "metadata": {},
   "source": [
    "__Sample median:__\n",
    "\n",
    "1) if $n$ is odd, the $\\frac{n+1}{2}$-th smallest observation  \n",
    "2) if $n$ is even, any number between the $\\frac{n}{2}$-th smallest and the $\\frac{n+1}{2}$-th smallest observation (typically used mean of these two observations)"
   ]
  },
  {
   "cell_type": "code",
   "execution_count": 6,
   "id": "e2041c21",
   "metadata": {},
   "outputs": [
    {
     "data": {
      "text/html": [
       "61.77"
      ],
      "text/latex": [
       "61.77"
      ],
      "text/markdown": [
       "61.77"
      ],
      "text/plain": [
       "[1] 61.77"
      ]
     },
     "metadata": {},
     "output_type": "display_data"
    }
   ],
   "source": [
    "# using function\n",
    "\n",
    "median(data)"
   ]
  },
  {
   "cell_type": "code",
   "execution_count": 7,
   "id": "d234d6ad",
   "metadata": {},
   "outputs": [
    {
     "data": {
      "text/html": [
       "<style>\n",
       ".list-inline {list-style: none; margin:0; padding: 0}\n",
       ".list-inline>li {display: inline-block}\n",
       ".list-inline>li:not(:last-child)::after {content: \"\\00b7\"; padding: 0 .5ex}\n",
       "</style>\n",
       "<ol class=list-inline><li>21.93</li><li>26.36</li><li>26.72</li><li>27.56</li><li>28.04</li><li>28.29</li><li>28.37</li><li>28.62</li><li>28.78</li><li>28.96</li><li>29.92</li><li>29.98</li><li>30.02</li><li>30.53</li><li>30.67</li><li>30.95</li><li>31.02</li><li>31.26</li><li>31.48</li><li>31.6</li><li>31.71</li><li>31.87</li><li>32.61</li><li>32.74</li><li>32.99</li><li>33.04</li><li>33.08</li><li>33.55</li><li>33.65</li><li>33.76</li><li>33.8</li><li>33.83</li><li>33.9</li><li>33.92</li><li>33.97</li><li>34.2</li><li>34.3</li><li>34.36</li><li>34.64</li><li>34.68</li><li>34.83</li><li>34.92</li><li>35.02</li><li>35.13</li><li>35.14</li><li>35.14</li><li>35.27</li><li>35.5</li><li>35.64</li><li>35.78</li><li>35.9</li><li>35.97</li><li>36.03</li><li>36.25</li><li>36.27</li><li>36.35</li><li>36.47</li><li>36.47</li><li>36.5</li><li>36.52</li><li>36.56</li><li>36.6</li><li>36.63</li><li>36.8</li><li>36.81</li><li>36.93</li><li>36.96</li><li>36.99</li><li>37.01</li><li>37.05</li><li>37.05</li><li>37.16</li><li>37.24</li><li>37.27</li><li>37.3</li><li>37.33</li><li>37.53</li><li>37.85</li><li>37.87</li><li>37.89</li><li>37.89</li><li>38.01</li><li>38.1</li><li>38.16</li><li>38.17</li><li>38.2</li><li>38.35</li><li>38.44</li><li>38.49</li><li>38.49</li><li>38.58</li><li>38.59</li><li>38.72</li><li>38.75</li><li>38.78</li><li>38.86</li><li>38.9</li><li>38.92</li><li>38.93</li><li>38.99</li><li>39.07</li><li>39.14</li><li>39.17</li><li>39.25</li><li>39.28</li><li>39.3</li><li>39.4</li><li>39.41</li><li>39.51</li><li>39.53</li><li>39.7</li><li>39.7</li><li>39.84</li><li>39.86</li><li>39.92</li><li>39.99</li><li>40.02</li><li>40.04</li><li>40.04</li><li>40.05</li><li>40.06</li><li>40.06</li><li>40.07</li><li>40.21</li><li>40.25</li><li>40.37</li><li>40.5</li><li>40.53</li><li>40.57</li><li>40.65</li><li>40.71</li><li>40.74</li><li>40.75</li><li>40.79</li><li>40.83</li><li>40.92</li><li>41</li><li>41.08</li><li>41.09</li><li>41.1</li><li>41.11</li><li>41.14</li><li>41.17</li><li>41.27</li><li>41.28</li><li>41.29</li><li>41.31</li><li>41.32</li><li>41.4</li><li>41.41</li><li>41.46</li><li>41.48</li><li>41.52</li><li>41.53</li><li>41.53</li><li>41.54</li><li>41.63</li><li>41.79</li><li>41.81</li><li>41.92</li><li>41.98</li><li>42.05</li><li>42.07</li><li>42.11</li><li>42.12</li><li>42.17</li><li>42.27</li><li>42.45</li><li>42.55</li><li>42.64</li><li>42.68</li><li>42.72</li><li>42.79</li><li>42.84</li><li>42.84</li><li>42.88</li><li>42.89</li><li>42.9</li><li>42.95</li><li>43.06</li><li>43.08</li><li>43.08</li><li>43.08</li><li>43.1</li><li>43.15</li><li>43.19</li><li>43.26</li><li>43.28</li><li>43.37</li><li>43.39</li><li>43.4</li><li>43.42</li><li>43.44</li><li>43.45</li><li>43.46</li><li>43.51</li><li>43.51</li><li>43.51</li><li>43.55</li><li>43.56</li><li>...</li><li>77.13</li><li>77.15</li><li>77.17</li><li>77.22</li><li>77.37</li><li>77.45</li><li>77.45</li><li>77.48</li><li>77.48</li><li>77.51</li><li>77.54</li><li>77.54</li><li>77.54</li><li>77.66</li><li>77.72</li><li>77.77</li><li>77.77</li><li>77.85</li><li>77.92</li><li>77.94</li><li>77.96</li><li>77.96</li><li>77.99</li><li>78.04</li><li>78.16</li><li>78.19</li><li>78.19</li><li>78.19</li><li>78.21</li><li>78.22</li><li>78.26</li><li>78.27</li><li>78.41</li><li>78.44</li><li>78.45</li><li>78.54</li><li>78.55</li><li>78.62</li><li>78.64</li><li>78.69</li><li>78.73</li><li>78.73</li><li>78.77</li><li>78.78</li><li>78.8</li><li>78.84</li><li>78.86</li><li>78.87</li><li>78.89</li><li>78.93</li><li>78.93</li><li>79.01</li><li>79.04</li><li>79.11</li><li>79.12</li><li>79.12</li><li>79.17</li><li>79.2</li><li>79.23</li><li>79.24</li><li>79.26</li><li>79.28</li><li>79.29</li><li>79.34</li><li>79.35</li><li>79.36</li><li>79.38</li><li>79.41</li><li>79.42</li><li>79.42</li><li>79.48</li><li>79.48</li><li>79.52</li><li>79.59</li><li>79.61</li><li>79.73</li><li>79.76</li><li>79.84</li><li>79.97</li><li>80.04</li><li>80.08</li><li>80.09</li><li>80.13</li><li>80.17</li><li>80.21</li><li>80.31</li><li>80.33</li><li>80.34</li><li>80.38</li><li>80.48</li><li>80.5</li><li>80.56</li><li>80.59</li><li>80.76</li><li>80.81</li><li>80.82</li><li>80.93</li><li>81</li><li>81.02</li><li>81.06</li><li>81.11</li><li>81.14</li><li>81.32</li><li>81.37</li><li>81.44</li><li>81.52</li><li>81.53</li><li>81.57</li><li>81.63</li><li>81.75</li><li>81.76</li><li>81.88</li><li>81.89</li><li>81.9</li><li>81.98</li><li>82</li><li>82.06</li><li>82.1</li><li>82.17</li><li>82.17</li><li>82.34</li><li>82.35</li><li>82.46</li><li>82.5</li><li>82.51</li><li>82.53</li><li>82.53</li><li>82.65</li><li>82.72</li><li>82.73</li><li>82.87</li><li>82.94</li><li>83.01</li><li>83.02</li><li>83.09</li><li>83.17</li><li>83.19</li><li>83.27</li><li>83.35</li><li>83.39</li><li>83.49</li><li>83.58</li><li>83.68</li><li>83.68</li><li>83.8</li><li>83.89</li><li>83.9</li><li>83.9</li><li>83.92</li><li>83.93</li><li>83.96</li><li>83.99</li><li>84</li><li>84.04</li><li>84.22</li><li>84.3</li><li>84.41</li><li>84.73</li><li>84.76</li><li>84.85</li><li>84.87</li><li>84.88</li><li>85.02</li><li>85.09</li><li>85.12</li><li>85.17</li><li>85.21</li><li>85.21</li><li>85.39</li><li>85.49</li><li>85.85</li><li>85.94</li><li>85.94</li><li>86.04</li><li>86.14</li><li>86.24</li><li>86.26</li><li>86.28</li><li>86.29</li><li>86.41</li><li>86.55</li><li>86.61</li><li>86.75</li><li>86.9</li><li>86.99</li><li>87.18</li><li>87.32</li><li>87.75</li><li>88.29</li><li>88.8</li><li>89</li><li>89.08</li><li>89.43</li><li>90</li><li>90.02</li><li>90.08</li><li>90.23</li><li>90.43</li><li>92.14</li><li>96.29</li></ol>\n"
      ],
      "text/latex": [
       "\\begin{enumerate*}\n",
       "\\item 21.93\n",
       "\\item 26.36\n",
       "\\item 26.72\n",
       "\\item 27.56\n",
       "\\item 28.04\n",
       "\\item 28.29\n",
       "\\item 28.37\n",
       "\\item 28.62\n",
       "\\item 28.78\n",
       "\\item 28.96\n",
       "\\item 29.92\n",
       "\\item 29.98\n",
       "\\item 30.02\n",
       "\\item 30.53\n",
       "\\item 30.67\n",
       "\\item 30.95\n",
       "\\item 31.02\n",
       "\\item 31.26\n",
       "\\item 31.48\n",
       "\\item 31.6\n",
       "\\item 31.71\n",
       "\\item 31.87\n",
       "\\item 32.61\n",
       "\\item 32.74\n",
       "\\item 32.99\n",
       "\\item 33.04\n",
       "\\item 33.08\n",
       "\\item 33.55\n",
       "\\item 33.65\n",
       "\\item 33.76\n",
       "\\item 33.8\n",
       "\\item 33.83\n",
       "\\item 33.9\n",
       "\\item 33.92\n",
       "\\item 33.97\n",
       "\\item 34.2\n",
       "\\item 34.3\n",
       "\\item 34.36\n",
       "\\item 34.64\n",
       "\\item 34.68\n",
       "\\item 34.83\n",
       "\\item 34.92\n",
       "\\item 35.02\n",
       "\\item 35.13\n",
       "\\item 35.14\n",
       "\\item 35.14\n",
       "\\item 35.27\n",
       "\\item 35.5\n",
       "\\item 35.64\n",
       "\\item 35.78\n",
       "\\item 35.9\n",
       "\\item 35.97\n",
       "\\item 36.03\n",
       "\\item 36.25\n",
       "\\item 36.27\n",
       "\\item 36.35\n",
       "\\item 36.47\n",
       "\\item 36.47\n",
       "\\item 36.5\n",
       "\\item 36.52\n",
       "\\item 36.56\n",
       "\\item 36.6\n",
       "\\item 36.63\n",
       "\\item 36.8\n",
       "\\item 36.81\n",
       "\\item 36.93\n",
       "\\item 36.96\n",
       "\\item 36.99\n",
       "\\item 37.01\n",
       "\\item 37.05\n",
       "\\item 37.05\n",
       "\\item 37.16\n",
       "\\item 37.24\n",
       "\\item 37.27\n",
       "\\item 37.3\n",
       "\\item 37.33\n",
       "\\item 37.53\n",
       "\\item 37.85\n",
       "\\item 37.87\n",
       "\\item 37.89\n",
       "\\item 37.89\n",
       "\\item 38.01\n",
       "\\item 38.1\n",
       "\\item 38.16\n",
       "\\item 38.17\n",
       "\\item 38.2\n",
       "\\item 38.35\n",
       "\\item 38.44\n",
       "\\item 38.49\n",
       "\\item 38.49\n",
       "\\item 38.58\n",
       "\\item 38.59\n",
       "\\item 38.72\n",
       "\\item 38.75\n",
       "\\item 38.78\n",
       "\\item 38.86\n",
       "\\item 38.9\n",
       "\\item 38.92\n",
       "\\item 38.93\n",
       "\\item 38.99\n",
       "\\item 39.07\n",
       "\\item 39.14\n",
       "\\item 39.17\n",
       "\\item 39.25\n",
       "\\item 39.28\n",
       "\\item 39.3\n",
       "\\item 39.4\n",
       "\\item 39.41\n",
       "\\item 39.51\n",
       "\\item 39.53\n",
       "\\item 39.7\n",
       "\\item 39.7\n",
       "\\item 39.84\n",
       "\\item 39.86\n",
       "\\item 39.92\n",
       "\\item 39.99\n",
       "\\item 40.02\n",
       "\\item 40.04\n",
       "\\item 40.04\n",
       "\\item 40.05\n",
       "\\item 40.06\n",
       "\\item 40.06\n",
       "\\item 40.07\n",
       "\\item 40.21\n",
       "\\item 40.25\n",
       "\\item 40.37\n",
       "\\item 40.5\n",
       "\\item 40.53\n",
       "\\item 40.57\n",
       "\\item 40.65\n",
       "\\item 40.71\n",
       "\\item 40.74\n",
       "\\item 40.75\n",
       "\\item 40.79\n",
       "\\item 40.83\n",
       "\\item 40.92\n",
       "\\item 41\n",
       "\\item 41.08\n",
       "\\item 41.09\n",
       "\\item 41.1\n",
       "\\item 41.11\n",
       "\\item 41.14\n",
       "\\item 41.17\n",
       "\\item 41.27\n",
       "\\item 41.28\n",
       "\\item 41.29\n",
       "\\item 41.31\n",
       "\\item 41.32\n",
       "\\item 41.4\n",
       "\\item 41.41\n",
       "\\item 41.46\n",
       "\\item 41.48\n",
       "\\item 41.52\n",
       "\\item 41.53\n",
       "\\item 41.53\n",
       "\\item 41.54\n",
       "\\item 41.63\n",
       "\\item 41.79\n",
       "\\item 41.81\n",
       "\\item 41.92\n",
       "\\item 41.98\n",
       "\\item 42.05\n",
       "\\item 42.07\n",
       "\\item 42.11\n",
       "\\item 42.12\n",
       "\\item 42.17\n",
       "\\item 42.27\n",
       "\\item 42.45\n",
       "\\item 42.55\n",
       "\\item 42.64\n",
       "\\item 42.68\n",
       "\\item 42.72\n",
       "\\item 42.79\n",
       "\\item 42.84\n",
       "\\item 42.84\n",
       "\\item 42.88\n",
       "\\item 42.89\n",
       "\\item 42.9\n",
       "\\item 42.95\n",
       "\\item 43.06\n",
       "\\item 43.08\n",
       "\\item 43.08\n",
       "\\item 43.08\n",
       "\\item 43.1\n",
       "\\item 43.15\n",
       "\\item 43.19\n",
       "\\item 43.26\n",
       "\\item 43.28\n",
       "\\item 43.37\n",
       "\\item 43.39\n",
       "\\item 43.4\n",
       "\\item 43.42\n",
       "\\item 43.44\n",
       "\\item 43.45\n",
       "\\item 43.46\n",
       "\\item 43.51\n",
       "\\item 43.51\n",
       "\\item 43.51\n",
       "\\item 43.55\n",
       "\\item 43.56\n",
       "\\item ...\n",
       "\\item 77.13\n",
       "\\item 77.15\n",
       "\\item 77.17\n",
       "\\item 77.22\n",
       "\\item 77.37\n",
       "\\item 77.45\n",
       "\\item 77.45\n",
       "\\item 77.48\n",
       "\\item 77.48\n",
       "\\item 77.51\n",
       "\\item 77.54\n",
       "\\item 77.54\n",
       "\\item 77.54\n",
       "\\item 77.66\n",
       "\\item 77.72\n",
       "\\item 77.77\n",
       "\\item 77.77\n",
       "\\item 77.85\n",
       "\\item 77.92\n",
       "\\item 77.94\n",
       "\\item 77.96\n",
       "\\item 77.96\n",
       "\\item 77.99\n",
       "\\item 78.04\n",
       "\\item 78.16\n",
       "\\item 78.19\n",
       "\\item 78.19\n",
       "\\item 78.19\n",
       "\\item 78.21\n",
       "\\item 78.22\n",
       "\\item 78.26\n",
       "\\item 78.27\n",
       "\\item 78.41\n",
       "\\item 78.44\n",
       "\\item 78.45\n",
       "\\item 78.54\n",
       "\\item 78.55\n",
       "\\item 78.62\n",
       "\\item 78.64\n",
       "\\item 78.69\n",
       "\\item 78.73\n",
       "\\item 78.73\n",
       "\\item 78.77\n",
       "\\item 78.78\n",
       "\\item 78.8\n",
       "\\item 78.84\n",
       "\\item 78.86\n",
       "\\item 78.87\n",
       "\\item 78.89\n",
       "\\item 78.93\n",
       "\\item 78.93\n",
       "\\item 79.01\n",
       "\\item 79.04\n",
       "\\item 79.11\n",
       "\\item 79.12\n",
       "\\item 79.12\n",
       "\\item 79.17\n",
       "\\item 79.2\n",
       "\\item 79.23\n",
       "\\item 79.24\n",
       "\\item 79.26\n",
       "\\item 79.28\n",
       "\\item 79.29\n",
       "\\item 79.34\n",
       "\\item 79.35\n",
       "\\item 79.36\n",
       "\\item 79.38\n",
       "\\item 79.41\n",
       "\\item 79.42\n",
       "\\item 79.42\n",
       "\\item 79.48\n",
       "\\item 79.48\n",
       "\\item 79.52\n",
       "\\item 79.59\n",
       "\\item 79.61\n",
       "\\item 79.73\n",
       "\\item 79.76\n",
       "\\item 79.84\n",
       "\\item 79.97\n",
       "\\item 80.04\n",
       "\\item 80.08\n",
       "\\item 80.09\n",
       "\\item 80.13\n",
       "\\item 80.17\n",
       "\\item 80.21\n",
       "\\item 80.31\n",
       "\\item 80.33\n",
       "\\item 80.34\n",
       "\\item 80.38\n",
       "\\item 80.48\n",
       "\\item 80.5\n",
       "\\item 80.56\n",
       "\\item 80.59\n",
       "\\item 80.76\n",
       "\\item 80.81\n",
       "\\item 80.82\n",
       "\\item 80.93\n",
       "\\item 81\n",
       "\\item 81.02\n",
       "\\item 81.06\n",
       "\\item 81.11\n",
       "\\item 81.14\n",
       "\\item 81.32\n",
       "\\item 81.37\n",
       "\\item 81.44\n",
       "\\item 81.52\n",
       "\\item 81.53\n",
       "\\item 81.57\n",
       "\\item 81.63\n",
       "\\item 81.75\n",
       "\\item 81.76\n",
       "\\item 81.88\n",
       "\\item 81.89\n",
       "\\item 81.9\n",
       "\\item 81.98\n",
       "\\item 82\n",
       "\\item 82.06\n",
       "\\item 82.1\n",
       "\\item 82.17\n",
       "\\item 82.17\n",
       "\\item 82.34\n",
       "\\item 82.35\n",
       "\\item 82.46\n",
       "\\item 82.5\n",
       "\\item 82.51\n",
       "\\item 82.53\n",
       "\\item 82.53\n",
       "\\item 82.65\n",
       "\\item 82.72\n",
       "\\item 82.73\n",
       "\\item 82.87\n",
       "\\item 82.94\n",
       "\\item 83.01\n",
       "\\item 83.02\n",
       "\\item 83.09\n",
       "\\item 83.17\n",
       "\\item 83.19\n",
       "\\item 83.27\n",
       "\\item 83.35\n",
       "\\item 83.39\n",
       "\\item 83.49\n",
       "\\item 83.58\n",
       "\\item 83.68\n",
       "\\item 83.68\n",
       "\\item 83.8\n",
       "\\item 83.89\n",
       "\\item 83.9\n",
       "\\item 83.9\n",
       "\\item 83.92\n",
       "\\item 83.93\n",
       "\\item 83.96\n",
       "\\item 83.99\n",
       "\\item 84\n",
       "\\item 84.04\n",
       "\\item 84.22\n",
       "\\item 84.3\n",
       "\\item 84.41\n",
       "\\item 84.73\n",
       "\\item 84.76\n",
       "\\item 84.85\n",
       "\\item 84.87\n",
       "\\item 84.88\n",
       "\\item 85.02\n",
       "\\item 85.09\n",
       "\\item 85.12\n",
       "\\item 85.17\n",
       "\\item 85.21\n",
       "\\item 85.21\n",
       "\\item 85.39\n",
       "\\item 85.49\n",
       "\\item 85.85\n",
       "\\item 85.94\n",
       "\\item 85.94\n",
       "\\item 86.04\n",
       "\\item 86.14\n",
       "\\item 86.24\n",
       "\\item 86.26\n",
       "\\item 86.28\n",
       "\\item 86.29\n",
       "\\item 86.41\n",
       "\\item 86.55\n",
       "\\item 86.61\n",
       "\\item 86.75\n",
       "\\item 86.9\n",
       "\\item 86.99\n",
       "\\item 87.18\n",
       "\\item 87.32\n",
       "\\item 87.75\n",
       "\\item 88.29\n",
       "\\item 88.8\n",
       "\\item 89\n",
       "\\item 89.08\n",
       "\\item 89.43\n",
       "\\item 90\n",
       "\\item 90.02\n",
       "\\item 90.08\n",
       "\\item 90.23\n",
       "\\item 90.43\n",
       "\\item 92.14\n",
       "\\item 96.29\n",
       "\\end{enumerate*}\n"
      ],
      "text/markdown": [
       "1. 21.93\n",
       "2. 26.36\n",
       "3. 26.72\n",
       "4. 27.56\n",
       "5. 28.04\n",
       "6. 28.29\n",
       "7. 28.37\n",
       "8. 28.62\n",
       "9. 28.78\n",
       "10. 28.96\n",
       "11. 29.92\n",
       "12. 29.98\n",
       "13. 30.02\n",
       "14. 30.53\n",
       "15. 30.67\n",
       "16. 30.95\n",
       "17. 31.02\n",
       "18. 31.26\n",
       "19. 31.48\n",
       "20. 31.6\n",
       "21. 31.71\n",
       "22. 31.87\n",
       "23. 32.61\n",
       "24. 32.74\n",
       "25. 32.99\n",
       "26. 33.04\n",
       "27. 33.08\n",
       "28. 33.55\n",
       "29. 33.65\n",
       "30. 33.76\n",
       "31. 33.8\n",
       "32. 33.83\n",
       "33. 33.9\n",
       "34. 33.92\n",
       "35. 33.97\n",
       "36. 34.2\n",
       "37. 34.3\n",
       "38. 34.36\n",
       "39. 34.64\n",
       "40. 34.68\n",
       "41. 34.83\n",
       "42. 34.92\n",
       "43. 35.02\n",
       "44. 35.13\n",
       "45. 35.14\n",
       "46. 35.14\n",
       "47. 35.27\n",
       "48. 35.5\n",
       "49. 35.64\n",
       "50. 35.78\n",
       "51. 35.9\n",
       "52. 35.97\n",
       "53. 36.03\n",
       "54. 36.25\n",
       "55. 36.27\n",
       "56. 36.35\n",
       "57. 36.47\n",
       "58. 36.47\n",
       "59. 36.5\n",
       "60. 36.52\n",
       "61. 36.56\n",
       "62. 36.6\n",
       "63. 36.63\n",
       "64. 36.8\n",
       "65. 36.81\n",
       "66. 36.93\n",
       "67. 36.96\n",
       "68. 36.99\n",
       "69. 37.01\n",
       "70. 37.05\n",
       "71. 37.05\n",
       "72. 37.16\n",
       "73. 37.24\n",
       "74. 37.27\n",
       "75. 37.3\n",
       "76. 37.33\n",
       "77. 37.53\n",
       "78. 37.85\n",
       "79. 37.87\n",
       "80. 37.89\n",
       "81. 37.89\n",
       "82. 38.01\n",
       "83. 38.1\n",
       "84. 38.16\n",
       "85. 38.17\n",
       "86. 38.2\n",
       "87. 38.35\n",
       "88. 38.44\n",
       "89. 38.49\n",
       "90. 38.49\n",
       "91. 38.58\n",
       "92. 38.59\n",
       "93. 38.72\n",
       "94. 38.75\n",
       "95. 38.78\n",
       "96. 38.86\n",
       "97. 38.9\n",
       "98. 38.92\n",
       "99. 38.93\n",
       "100. 38.99\n",
       "101. 39.07\n",
       "102. 39.14\n",
       "103. 39.17\n",
       "104. 39.25\n",
       "105. 39.28\n",
       "106. 39.3\n",
       "107. 39.4\n",
       "108. 39.41\n",
       "109. 39.51\n",
       "110. 39.53\n",
       "111. 39.7\n",
       "112. 39.7\n",
       "113. 39.84\n",
       "114. 39.86\n",
       "115. 39.92\n",
       "116. 39.99\n",
       "117. 40.02\n",
       "118. 40.04\n",
       "119. 40.04\n",
       "120. 40.05\n",
       "121. 40.06\n",
       "122. 40.06\n",
       "123. 40.07\n",
       "124. 40.21\n",
       "125. 40.25\n",
       "126. 40.37\n",
       "127. 40.5\n",
       "128. 40.53\n",
       "129. 40.57\n",
       "130. 40.65\n",
       "131. 40.71\n",
       "132. 40.74\n",
       "133. 40.75\n",
       "134. 40.79\n",
       "135. 40.83\n",
       "136. 40.92\n",
       "137. 41\n",
       "138. 41.08\n",
       "139. 41.09\n",
       "140. 41.1\n",
       "141. 41.11\n",
       "142. 41.14\n",
       "143. 41.17\n",
       "144. 41.27\n",
       "145. 41.28\n",
       "146. 41.29\n",
       "147. 41.31\n",
       "148. 41.32\n",
       "149. 41.4\n",
       "150. 41.41\n",
       "151. 41.46\n",
       "152. 41.48\n",
       "153. 41.52\n",
       "154. 41.53\n",
       "155. 41.53\n",
       "156. 41.54\n",
       "157. 41.63\n",
       "158. 41.79\n",
       "159. 41.81\n",
       "160. 41.92\n",
       "161. 41.98\n",
       "162. 42.05\n",
       "163. 42.07\n",
       "164. 42.11\n",
       "165. 42.12\n",
       "166. 42.17\n",
       "167. 42.27\n",
       "168. 42.45\n",
       "169. 42.55\n",
       "170. 42.64\n",
       "171. 42.68\n",
       "172. 42.72\n",
       "173. 42.79\n",
       "174. 42.84\n",
       "175. 42.84\n",
       "176. 42.88\n",
       "177. 42.89\n",
       "178. 42.9\n",
       "179. 42.95\n",
       "180. 43.06\n",
       "181. 43.08\n",
       "182. 43.08\n",
       "183. 43.08\n",
       "184. 43.1\n",
       "185. 43.15\n",
       "186. 43.19\n",
       "187. 43.26\n",
       "188. 43.28\n",
       "189. 43.37\n",
       "190. 43.39\n",
       "191. 43.4\n",
       "192. 43.42\n",
       "193. 43.44\n",
       "194. 43.45\n",
       "195. 43.46\n",
       "196. 43.51\n",
       "197. 43.51\n",
       "198. 43.51\n",
       "199. 43.55\n",
       "200. 43.56\n",
       "201. ...\n",
       "202. 77.13\n",
       "203. 77.15\n",
       "204. 77.17\n",
       "205. 77.22\n",
       "206. 77.37\n",
       "207. 77.45\n",
       "208. 77.45\n",
       "209. 77.48\n",
       "210. 77.48\n",
       "211. 77.51\n",
       "212. 77.54\n",
       "213. 77.54\n",
       "214. 77.54\n",
       "215. 77.66\n",
       "216. 77.72\n",
       "217. 77.77\n",
       "218. 77.77\n",
       "219. 77.85\n",
       "220. 77.92\n",
       "221. 77.94\n",
       "222. 77.96\n",
       "223. 77.96\n",
       "224. 77.99\n",
       "225. 78.04\n",
       "226. 78.16\n",
       "227. 78.19\n",
       "228. 78.19\n",
       "229. 78.19\n",
       "230. 78.21\n",
       "231. 78.22\n",
       "232. 78.26\n",
       "233. 78.27\n",
       "234. 78.41\n",
       "235. 78.44\n",
       "236. 78.45\n",
       "237. 78.54\n",
       "238. 78.55\n",
       "239. 78.62\n",
       "240. 78.64\n",
       "241. 78.69\n",
       "242. 78.73\n",
       "243. 78.73\n",
       "244. 78.77\n",
       "245. 78.78\n",
       "246. 78.8\n",
       "247. 78.84\n",
       "248. 78.86\n",
       "249. 78.87\n",
       "250. 78.89\n",
       "251. 78.93\n",
       "252. 78.93\n",
       "253. 79.01\n",
       "254. 79.04\n",
       "255. 79.11\n",
       "256. 79.12\n",
       "257. 79.12\n",
       "258. 79.17\n",
       "259. 79.2\n",
       "260. 79.23\n",
       "261. 79.24\n",
       "262. 79.26\n",
       "263. 79.28\n",
       "264. 79.29\n",
       "265. 79.34\n",
       "266. 79.35\n",
       "267. 79.36\n",
       "268. 79.38\n",
       "269. 79.41\n",
       "270. 79.42\n",
       "271. 79.42\n",
       "272. 79.48\n",
       "273. 79.48\n",
       "274. 79.52\n",
       "275. 79.59\n",
       "276. 79.61\n",
       "277. 79.73\n",
       "278. 79.76\n",
       "279. 79.84\n",
       "280. 79.97\n",
       "281. 80.04\n",
       "282. 80.08\n",
       "283. 80.09\n",
       "284. 80.13\n",
       "285. 80.17\n",
       "286. 80.21\n",
       "287. 80.31\n",
       "288. 80.33\n",
       "289. 80.34\n",
       "290. 80.38\n",
       "291. 80.48\n",
       "292. 80.5\n",
       "293. 80.56\n",
       "294. 80.59\n",
       "295. 80.76\n",
       "296. 80.81\n",
       "297. 80.82\n",
       "298. 80.93\n",
       "299. 81\n",
       "300. 81.02\n",
       "301. 81.06\n",
       "302. 81.11\n",
       "303. 81.14\n",
       "304. 81.32\n",
       "305. 81.37\n",
       "306. 81.44\n",
       "307. 81.52\n",
       "308. 81.53\n",
       "309. 81.57\n",
       "310. 81.63\n",
       "311. 81.75\n",
       "312. 81.76\n",
       "313. 81.88\n",
       "314. 81.89\n",
       "315. 81.9\n",
       "316. 81.98\n",
       "317. 82\n",
       "318. 82.06\n",
       "319. 82.1\n",
       "320. 82.17\n",
       "321. 82.17\n",
       "322. 82.34\n",
       "323. 82.35\n",
       "324. 82.46\n",
       "325. 82.5\n",
       "326. 82.51\n",
       "327. 82.53\n",
       "328. 82.53\n",
       "329. 82.65\n",
       "330. 82.72\n",
       "331. 82.73\n",
       "332. 82.87\n",
       "333. 82.94\n",
       "334. 83.01\n",
       "335. 83.02\n",
       "336. 83.09\n",
       "337. 83.17\n",
       "338. 83.19\n",
       "339. 83.27\n",
       "340. 83.35\n",
       "341. 83.39\n",
       "342. 83.49\n",
       "343. 83.58\n",
       "344. 83.68\n",
       "345. 83.68\n",
       "346. 83.8\n",
       "347. 83.89\n",
       "348. 83.9\n",
       "349. 83.9\n",
       "350. 83.92\n",
       "351. 83.93\n",
       "352. 83.96\n",
       "353. 83.99\n",
       "354. 84\n",
       "355. 84.04\n",
       "356. 84.22\n",
       "357. 84.3\n",
       "358. 84.41\n",
       "359. 84.73\n",
       "360. 84.76\n",
       "361. 84.85\n",
       "362. 84.87\n",
       "363. 84.88\n",
       "364. 85.02\n",
       "365. 85.09\n",
       "366. 85.12\n",
       "367. 85.17\n",
       "368. 85.21\n",
       "369. 85.21\n",
       "370. 85.39\n",
       "371. 85.49\n",
       "372. 85.85\n",
       "373. 85.94\n",
       "374. 85.94\n",
       "375. 86.04\n",
       "376. 86.14\n",
       "377. 86.24\n",
       "378. 86.26\n",
       "379. 86.28\n",
       "380. 86.29\n",
       "381. 86.41\n",
       "382. 86.55\n",
       "383. 86.61\n",
       "384. 86.75\n",
       "385. 86.9\n",
       "386. 86.99\n",
       "387. 87.18\n",
       "388. 87.32\n",
       "389. 87.75\n",
       "390. 88.29\n",
       "391. 88.8\n",
       "392. 89\n",
       "393. 89.08\n",
       "394. 89.43\n",
       "395. 90\n",
       "396. 90.02\n",
       "397. 90.08\n",
       "398. 90.23\n",
       "399. 90.43\n",
       "400. 92.14\n",
       "401. 96.29\n",
       "\n",
       "\n"
      ],
      "text/plain": [
       "   [1] 21.93 26.36 26.72 27.56 28.04 28.29 28.37 28.62 28.78 28.96 29.92 29.98\n",
       "  [13] 30.02 30.53 30.67 30.95 31.02 31.26 31.48 31.60 31.71 31.87 32.61 32.74\n",
       "  [25] 32.99 33.04 33.08 33.55 33.65 33.76 33.80 33.83 33.90 33.92 33.97 34.20\n",
       "  [37] 34.30 34.36 34.64 34.68 34.83 34.92 35.02 35.13 35.14 35.14 35.27 35.50\n",
       "  [49] 35.64 35.78 35.90 35.97 36.03 36.25 36.27 36.35 36.47 36.47 36.50 36.52\n",
       "  [61] 36.56 36.60 36.63 36.80 36.81 36.93 36.96 36.99 37.01 37.05 37.05 37.16\n",
       "  [73] 37.24 37.27 37.30 37.33 37.53 37.85 37.87 37.89 37.89 38.01 38.10 38.16\n",
       "  [85] 38.17 38.20 38.35 38.44 38.49 38.49 38.58 38.59 38.72 38.75 38.78 38.86\n",
       "  [97] 38.90 38.92 38.93 38.99 39.07 39.14 39.17 39.25 39.28 39.30 39.40 39.41\n",
       " [109] 39.51 39.53 39.70 39.70 39.84 39.86 39.92 39.99 40.02 40.04 40.04 40.05\n",
       " [121] 40.06 40.06 40.07 40.21 40.25 40.37 40.50 40.53 40.57 40.65 40.71 40.74\n",
       " [133] 40.75 40.79 40.83 40.92 41.00 41.08 41.09 41.10 41.11 41.14 41.17 41.27\n",
       " [145] 41.28 41.29 41.31 41.32 41.40 41.41 41.46 41.48 41.52 41.53 41.53 41.54\n",
       " [157] 41.63 41.79 41.81 41.92 41.98 42.05 42.07 42.11 42.12 42.17 42.27 42.45\n",
       " [169] 42.55 42.64 42.68 42.72 42.79 42.84 42.84 42.88 42.89 42.90 42.95 43.06\n",
       " [181] 43.08 43.08 43.08 43.10 43.15 43.19 43.26 43.28 43.37 43.39 43.40 43.42\n",
       " [193] 43.44 43.45 43.46 43.51 43.51 43.51 43.55 43.56 43.58 43.60 43.61 43.63\n",
       " [205] 43.63 43.67 43.68 43.72 43.73 43.75 43.77 43.80 43.81 43.85 43.86 44.00\n",
       " [217] 44.01 44.02 44.05 44.07 44.08 44.12 44.21 44.27 44.36 44.40 44.41 44.42\n",
       " [229] 44.47 44.48 44.50 44.50 44.51 44.51 44.59 44.64 44.65 44.73 44.82 44.84\n",
       " [241] 44.88 44.89 44.93 44.94 44.95 44.98 44.99 45.00 45.11 45.21 45.27 45.30\n",
       " [253] 45.30 45.35 45.39 45.39 45.40 45.42 45.43 45.44 45.45 45.50 45.50 45.57\n",
       " [265] 45.64 45.74 45.74 45.75 45.76 45.77 45.80 45.81 45.85 46.00 46.03 46.17\n",
       " [277] 46.23 46.26 46.28 46.40 46.43 46.44 46.47 46.49 46.58 46.59 46.63 46.66\n",
       " [289] 46.70 46.70 46.76 46.79 46.85 46.85 46.86 46.87 46.89 46.90 46.95 47.01\n",
       " [301] 47.03 47.03 47.10 47.13 47.14 47.24 47.29 47.30 47.35 47.38 47.47 47.48\n",
       " [313] 47.51 47.61 47.62 47.62 47.64 47.64 47.67 47.68 47.70 47.71 47.71 47.71\n",
       " [325] 47.74 47.75 47.85 47.86 47.88 47.92 47.92 47.94 47.98 48.07 48.07 48.07\n",
       " [337] 48.10 48.10 48.11 48.12 48.13 48.16 48.17 48.22 48.25 48.27 48.34 48.41\n",
       " [349] 48.44 48.45 48.47 48.47 48.48 48.48 48.52 48.53 48.58 48.59 48.59 48.67\n",
       " [361] 48.75 48.75 48.76 48.83 48.87 48.92 48.93 48.93 48.99 49.00 49.02 49.02\n",
       " [373] 49.05 49.05 49.08 49.13 49.16 49.28 49.34 49.35 49.37 49.38 49.43 49.45\n",
       " [385] 49.50 49.50 49.50 49.57 49.58 49.61 49.61 49.61 49.61 49.61 49.63 49.67\n",
       " [397] 49.76 49.77 49.83 49.84 49.87 49.87 49.87 49.88 49.91 49.92 49.92 49.92\n",
       " [409] 49.94 49.98 49.98 50.01 50.07 50.08 50.08 50.08 50.21 50.23 50.24 50.26\n",
       " [421] 50.30 50.31 50.32 50.37 50.38 50.39 50.41 50.42 50.42 50.42 50.44 50.45\n",
       " [433] 50.45 50.48 50.48 50.51 50.54 50.55 50.60 50.61 50.62 50.64 50.66 50.70\n",
       " [445] 50.73 50.75 50.78 50.79 50.82 50.84 50.88 50.92 50.92 50.94 50.98 51.01\n",
       " [457] 51.01 51.04 51.07 51.08 51.09 51.15 51.18 51.19 51.21 51.22 51.22 51.25\n",
       " [469] 51.25 51.25 51.29 51.33 51.34 51.36 51.36 51.36 51.38 51.42 51.42 51.45\n",
       " [481] 51.46 51.46 51.52 51.54 51.56 51.62 51.62 51.62 51.69 51.74 51.76 51.81\n",
       " [493] 51.86 51.87 51.87 51.92 51.93 51.94 51.94 51.98 52.09 52.09 52.11 52.12\n",
       " [505] 52.13 52.13 52.14 52.19 52.20 52.23 52.29 52.41 52.43 52.43 52.43 52.45\n",
       " [517] 52.55 52.55 52.57 52.57 52.61 52.63 52.67 52.77 52.79 52.84 52.85 52.90\n",
       " [529] 52.91 52.95 52.98 52.98 52.98 53.02 53.03 53.04 53.07 53.10 53.10 53.11\n",
       " [541] 53.14 53.16 53.18 53.19 53.31 53.35 53.36 53.38 53.39 53.45 53.45 53.48\n",
       " [553] 53.50 53.53 53.56 53.56 53.58 53.60 53.64 53.68 53.69 53.69 53.72 53.75\n",
       " [565] 53.79 53.87 53.89 53.96 53.99 54.01 54.06 54.08 54.10 54.11 54.15 54.16\n",
       " [577] 54.18 54.18 54.22 54.22 54.22 54.23 54.27 54.27 54.29 54.29 54.35 54.35\n",
       " [589] 54.38 54.40 54.42 54.43 54.44 54.48 54.53 54.59 54.60 54.60 54.61 54.62\n",
       " [601] 54.64 54.66 54.69 54.69 54.69 54.74 54.75 54.76 54.81 54.83 54.87 54.92\n",
       " [613] 54.95 54.96 54.96 55.01 55.02 55.04 55.07 55.09 55.22 55.28 55.28 55.30\n",
       " [625] 55.30 55.36 55.36 55.42 55.43 55.44 55.52 55.52 55.53 55.53 55.56 55.57\n",
       " [637] 55.57 55.62 55.65 55.66 55.67 55.70 55.71 55.71 55.72 55.80 55.83 55.95\n",
       " [649] 55.99 56.03 56.03 56.07 56.08 56.11 56.13 56.14 56.19 56.25 56.26 56.27\n",
       " [661] 56.27 56.28 56.32 56.33 56.33 56.34 56.37 56.38 56.39 56.40 56.41 56.41\n",
       " [673] 56.42 56.45 56.45 56.45 56.47 56.47 56.47 56.48 56.58 56.73 56.73 56.74\n",
       " [685] 56.75 56.78 56.79 56.81 56.83 56.84 56.85 56.86 56.89 56.89 56.90 56.92\n",
       " [697] 56.93 56.93 56.94 56.96 56.97 57.01 57.07 57.14 57.15 57.17 57.20 57.27\n",
       " [709] 57.27 57.31 57.32 57.33 57.34 57.36 57.39 57.40 57.41 57.41 57.41 57.48\n",
       " [721] 57.56 57.56 57.57 57.61 57.62 57.62 57.66 57.75 57.76 57.77 57.79 57.85\n",
       " [733] 57.87 57.87 57.87 57.90 57.91 57.93 57.94 57.95 57.96 57.98 57.99 57.99\n",
       " [745] 58.00 58.01 58.02 58.04 58.08 58.08 58.10 58.14 58.16 58.21 58.25 58.25\n",
       " [757] 58.26 58.26 58.27 58.31 58.31 58.32 58.35 58.37 58.38 58.38 58.39 58.39\n",
       " [769] 58.40 58.48 58.49 58.55 58.56 58.56 58.61 58.65 58.69 58.69 58.71 58.72\n",
       " [781] 58.75 58.78 58.80 58.80 58.80 58.83 58.83 58.84 58.85 58.89 58.89 58.90\n",
       " [793] 58.92 58.95 58.95 58.98 58.99 59.02 59.04 59.05 59.06 59.07 59.08 59.12\n",
       " [805] 59.13 59.13 59.15 59.16 59.16 59.18 59.18 59.20 59.22 59.22 59.23 59.23\n",
       " [817] 59.24 59.29 59.29 59.30 59.34 59.34 59.43 59.47 59.49 59.53 59.58 59.60\n",
       " [829] 59.63 59.64 59.75 59.75 59.78 59.80 59.82 59.84 59.84 59.84 59.85 59.90\n",
       " [841] 59.93 59.96 60.00 60.00 60.02 60.04 60.07 60.07 60.09 60.09 60.11 60.12\n",
       " [853] 60.12 60.12 60.13 60.13 60.15 60.15 60.20 60.26 60.27 60.28 60.29 60.29\n",
       " [865] 60.30 60.30 60.31 60.32 60.33 60.33 60.33 60.34 60.41 60.42 60.44 60.45\n",
       " [877] 60.45 60.46 60.48 60.48 60.50 60.50 60.51 60.56 60.57 60.58 60.59 60.60\n",
       " [889] 60.62 60.62 60.62 60.63 60.65 60.66 60.71 60.72 60.74 60.75 60.76 60.77\n",
       " [901] 60.77 60.78 60.89 60.93 60.95 60.96 60.96 60.99 60.99 61.00 61.00 61.04\n",
       " [913] 61.05 61.06 61.07 61.08 61.11 61.11 61.12 61.14 61.16 61.16 61.16 61.16\n",
       " [925] 61.21 61.22 61.22 61.23 61.23 61.24 61.26 61.27 61.28 61.28 61.30 61.31\n",
       " [937] 61.32 61.38 61.39 61.42 61.49 61.53 61.53 61.55 61.57 61.59 61.60 61.67\n",
       " [949] 61.67 61.72 61.73 61.76 61.78 61.78 61.79 61.81 61.84 61.88 61.88 61.88\n",
       " [961] 61.89 61.92 61.94 61.95 61.95 61.97 61.99 61.99 62.03 62.07 62.09 62.11\n",
       " [973] 62.13 62.26 62.29 62.32 62.34 62.35 62.36 62.39 62.40 62.43 62.43 62.45\n",
       " [985] 62.46 62.46 62.54 62.55 62.55 62.56 62.59 62.61 62.62 62.62 62.68 62.70\n",
       " [997] 62.70 62.70 62.72 62.76 62.79 62.81 62.84 62.87 62.87 62.88 62.89 62.90\n",
       "[1009] 62.90 62.92 62.92 62.96 62.97 62.99 63.01 63.02 63.03 63.03 63.05 63.06\n",
       "[1021] 63.07 63.08 63.09 63.09 63.10 63.10 63.17 63.19 63.20 63.20 63.20 63.22\n",
       "[1033] 63.23 63.24 63.25 63.27 63.27 63.30 63.31 63.34 63.34 63.35 63.35 63.35\n",
       "[1045] 63.39 63.40 63.43 63.44 63.45 63.48 63.50 63.53 63.53 63.53 63.58 63.61\n",
       "[1057] 63.63 63.65 63.70 63.71 63.77 63.77 63.79 63.82 63.83 63.86 63.89 63.92\n",
       "[1069] 63.93 63.94 63.95 63.95 63.96 63.97 63.98 64.01 64.01 64.01 64.01 64.02\n",
       "[1081] 64.04 64.04 64.07 64.10 64.11 64.12 64.15 64.21 64.21 64.24 64.24 64.25\n",
       "[1093] 64.27 64.28 64.30 64.32 64.32 64.40 64.40 64.43 64.47 64.50 64.55 64.55\n",
       "[1105] 64.57 64.61 64.64 64.68 64.76 64.76 64.85 64.91 64.93 64.93 64.95 64.99\n",
       "[1117] 64.99 65.02 65.03 65.04 65.06 65.07 65.14 65.16 65.22 65.25 65.26 65.31\n",
       "[1129] 65.35 65.39 65.41 65.43 65.44 65.46 65.47 65.48 65.49 65.50 65.50 65.50\n",
       "[1141] 65.52 65.53 65.56 65.58 65.58 65.58 65.59 65.62 65.63 65.69 65.76 65.79\n",
       "[1153] 65.83 65.83 65.86 65.86 65.86 65.89 65.93 65.94 65.96 66.01 66.01 66.04\n",
       "[1165] 66.06 66.09 66.11 66.11 66.12 66.13 66.15 66.18 66.20 66.22 66.23 66.24\n",
       "[1177] 66.27 66.28 66.35 66.36 66.37 66.37 66.38 66.39 66.39 66.42 66.45 66.47\n",
       "[1189] 66.48 66.52 66.52 66.54 66.55 66.55 66.56 66.57 66.58 66.58 66.61 66.66\n",
       "[1201] 66.70 66.72 66.75 66.76 66.76 66.83 66.84 66.85 66.86 66.88 66.91 66.91\n",
       "[1213] 66.91 66.94 66.94 66.95 66.97 67.00 67.01 67.02 67.03 67.06 67.10 67.12\n",
       "[1225] 67.12 67.13 67.15 67.17 67.19 67.20 67.24 67.24 67.25 67.26 67.27 67.27\n",
       "[1237] 67.33 67.38 67.40 67.45 67.46 67.46 67.46 67.48 67.54 67.57 67.57 67.59\n",
       "[1249] 67.60 67.60 67.62 67.62 67.68 67.70 67.70 67.78 67.79 67.79 67.80 67.81\n",
       "[1261] 67.82 67.83 67.85 67.86 67.87 67.88 67.88 67.89 67.89 67.92 67.94 67.99\n",
       "[1273] 68.00 68.01 68.09 68.10 68.13 68.16 68.16 68.16 68.18 68.18 68.19 68.21\n",
       "[1285] 68.23 68.25 68.28 68.32 68.41 68.41 68.42 68.43 68.44 68.45 68.47 68.47\n",
       "[1297] 68.48 68.49 68.49 68.50 68.52 68.53 68.55 68.56 68.57 68.59 68.59 68.60\n",
       "[1309] 68.61 68.64 68.66 68.66 68.68 68.70 68.70 68.72 68.74 68.74 68.75 68.76\n",
       "[1321] 68.76 68.82 68.82 68.85 68.86 68.90 68.91 68.93 68.99 69.01 69.04 69.05\n",
       "[1333] 69.06 69.07 69.12 69.13 69.16 69.16 69.19 69.19 69.20 69.23 69.24 69.25\n",
       "[1345] 69.27 69.27 69.28 69.29 69.31 69.32 69.37 69.38 69.39 69.42 69.45 69.46\n",
       "[1357] 69.48 69.50 69.51 69.52 69.55 69.56 69.59 69.60 69.62 69.64 69.65 69.65\n",
       "[1369] 69.66 69.67 69.67 69.68 69.70 69.72 69.72 69.73 69.75 69.77 69.79 69.79\n",
       "[1381] 69.80 69.83 69.84 69.86 69.87 69.88 69.93 69.93 69.93 69.94 69.95 69.95\n",
       "[1393] 69.96 69.99 70.02 70.04 70.10 70.11 70.12 70.15 70.19 70.22 70.22 70.23\n",
       "[1405] 70.25 70.27 70.28 70.30 70.31 70.31 70.32 70.35 70.35 70.38 70.42 70.49\n",
       "[1417] 70.49 70.50 70.51 70.52 70.52 70.52 70.53 70.56 70.57 70.58 70.58 70.59\n",
       "[1429] 70.60 70.61 70.64 70.65 70.65 70.68 70.69 70.75 70.76 70.76 70.77 70.79\n",
       "[1441] 70.84 70.84 70.86 70.86 70.88 70.90 70.91 70.91 70.92 70.94 70.97 70.98\n",
       "[1453] 71.01 71.03 71.05 71.05 71.06 71.07 71.11 71.16 71.17 71.17 71.17 71.19\n",
       "[1465] 71.21 71.22 71.24 71.30 71.31 71.32 71.36 71.38 71.40 71.41 71.47 71.49\n",
       "[1477] 71.50 71.51 71.57 71.58 71.61 71.62 71.64 71.66 71.67 71.69 71.74 71.78\n",
       "[1489] 71.82 71.82 71.84 71.91 71.93 72.02 72.05 72.10 72.12 72.12 72.14 72.14\n",
       "[1501] 72.16 72.16 72.17 72.18 72.19 72.19 72.23 72.23 72.25 72.26 72.28 72.30\n",
       "[1513] 72.36 72.38 72.39 72.39 72.44 72.44 72.48 72.49 72.54 72.56 72.61 72.61\n",
       "[1525] 72.65 72.66 72.69 72.71 72.73 72.74 72.77 72.81 72.81 72.88 72.94 72.99\n",
       "[1537] 73.01 73.01 73.03 73.03 73.06 73.07 73.10 73.11 73.15 73.16 73.17 73.20\n",
       "[1549] 73.20 73.21 73.22 73.24 73.24 73.37 73.39 73.39 73.42 73.46 73.48 73.52\n",
       "[1561] 73.53 73.55 73.60 73.64 73.65 73.74 73.75 73.91 73.93 73.95 73.98 74.02\n",
       "[1573] 74.07 74.07 74.09 74.11 74.11 74.20 74.21 74.26 74.28 74.29 74.31 74.32\n",
       "[1585] 74.33 74.34 74.39 74.43 74.45 74.46 74.46 74.51 74.52 74.53 74.53 74.56\n",
       "[1597] 74.57 74.58 74.60 74.60 74.63 74.64 74.67 74.71 74.76 74.76 74.76 74.78\n",
       "[1609] 74.79 74.80 74.80 74.80 74.84 74.85 74.86 74.95 74.96 74.98 74.98 74.98\n",
       "[1621] 75.01 75.02 75.10 75.13 75.18 75.19 75.20 75.26 75.27 75.28 75.33 75.33\n",
       "[1633] 75.38 75.41 75.42 75.44 75.46 75.48 75.53 75.55 75.55 75.56 75.62 75.63\n",
       "[1645] 75.65 75.65 75.65 75.67 75.71 75.73 75.74 75.87 75.89 75.91 75.98 76.01\n",
       "[1657] 76.01 76.02 76.06 76.13 76.17 76.19 76.20 76.22 76.25 76.30 76.32 76.35\n",
       "[1669] 76.37 76.37 76.40 76.42 76.49 76.49 76.51 76.53 76.54 76.56 76.65 76.66\n",
       "[1681] 76.68 76.69 76.71 76.72 76.72 76.77 76.77 76.81 76.81 76.83 76.84 76.87\n",
       "[1693] 76.88 76.89 76.91 76.93 76.96 76.97 76.98 76.99 77.09 77.12 77.12 77.13\n",
       "[1705] 77.13 77.15 77.17 77.22 77.37 77.45 77.45 77.48 77.48 77.51 77.54 77.54\n",
       "[1717] 77.54 77.66 77.72 77.77 77.77 77.85 77.92 77.94 77.96 77.96 77.99 78.04\n",
       "[1729] 78.16 78.19 78.19 78.19 78.21 78.22 78.26 78.27 78.41 78.44 78.45 78.54\n",
       "[1741] 78.55 78.62 78.64 78.69 78.73 78.73 78.77 78.78 78.80 78.84 78.86 78.87\n",
       "[1753] 78.89 78.93 78.93 79.01 79.04 79.11 79.12 79.12 79.17 79.20 79.23 79.24\n",
       "[1765] 79.26 79.28 79.29 79.34 79.35 79.36 79.38 79.41 79.42 79.42 79.48 79.48\n",
       "[1777] 79.52 79.59 79.61 79.73 79.76 79.84 79.97 80.04 80.08 80.09 80.13 80.17\n",
       "[1789] 80.21 80.31 80.33 80.34 80.38 80.48 80.50 80.56 80.59 80.76 80.81 80.82\n",
       "[1801] 80.93 81.00 81.02 81.06 81.11 81.14 81.32 81.37 81.44 81.52 81.53 81.57\n",
       "[1813] 81.63 81.75 81.76 81.88 81.89 81.90 81.98 82.00 82.06 82.10 82.17 82.17\n",
       "[1825] 82.34 82.35 82.46 82.50 82.51 82.53 82.53 82.65 82.72 82.73 82.87 82.94\n",
       "[1837] 83.01 83.02 83.09 83.17 83.19 83.27 83.35 83.39 83.49 83.58 83.68 83.68\n",
       "[1849] 83.80 83.89 83.90 83.90 83.92 83.93 83.96 83.99 84.00 84.04 84.22 84.30\n",
       "[1861] 84.41 84.73 84.76 84.85 84.87 84.88 85.02 85.09 85.12 85.17 85.21 85.21\n",
       "[1873] 85.39 85.49 85.85 85.94 85.94 86.04 86.14 86.24 86.26 86.28 86.29 86.41\n",
       "[1885] 86.55 86.61 86.75 86.90 86.99 87.18 87.32 87.75 88.29 88.80 89.00 89.08\n",
       "[1897] 89.43 90.00 90.02 90.08 90.23 90.43 92.14 96.29"
      ]
     },
     "metadata": {},
     "output_type": "display_data"
    }
   ],
   "source": [
    "# unsing calculation\n",
    "sorted <- sort(data)\n",
    "sorted"
   ]
  },
  {
   "cell_type": "code",
   "execution_count": 56,
   "id": "3798d004",
   "metadata": {},
   "outputs": [
    {
     "data": {
      "text/html": [
       "TRUE"
      ],
      "text/latex": [
       "TRUE"
      ],
      "text/markdown": [
       "TRUE"
      ],
      "text/plain": [
       "[1] TRUE"
      ]
     },
     "metadata": {},
     "output_type": "display_data"
    }
   ],
   "source": [
    "is_sorted <- function(data)\n",
    "{\n",
    "    for (i in seq(1, length(data)-1))\n",
    "    {\n",
    "        if (data[i] > data[i+1]) return(F)\n",
    "    }\n",
    "    return(T) \n",
    "}\n",
    "\n",
    "is_sorted(sorted)"
   ]
  },
  {
   "cell_type": "code",
   "execution_count": 8,
   "id": "fc982051",
   "metadata": {},
   "outputs": [
    {
     "data": {
      "text/html": [
       "1904"
      ],
      "text/latex": [
       "1904"
      ],
      "text/markdown": [
       "1904"
      ],
      "text/plain": [
       "[1] 1904"
      ]
     },
     "metadata": {},
     "output_type": "display_data"
    }
   ],
   "source": [
    "l <- length(sorted)\n",
    "l"
   ]
  },
  {
   "cell_type": "markdown",
   "id": "2e75747d",
   "metadata": {},
   "source": [
    "Length of vector is odd, so we should use second approach. "
   ]
  },
  {
   "cell_type": "code",
   "execution_count": 58,
   "id": "1cd81241",
   "metadata": {},
   "outputs": [
    {
     "name": "stdout",
     "output_type": "stream",
     "text": [
      "[1] 61.77\n"
     ]
    }
   ],
   "source": [
    "med <- (sorted[l/2]+sorted[(l+1)/2])/2\n",
    "\n",
    "print(med)"
   ]
  },
  {
   "cell_type": "markdown",
   "id": "9be77368",
   "metadata": {},
   "source": [
    "__Sample variance:__\n",
    "\n",
    "$$s^2 = \\frac{1}{n-1}\\sum_{i=1}^{n} (X_i - \\overline{X})^2$$"
   ]
  },
  {
   "cell_type": "code",
   "execution_count": 10,
   "id": "43398cb2",
   "metadata": {},
   "outputs": [
    {
     "data": {
      "text/html": [
       "168.446951849993"
      ],
      "text/latex": [
       "168.446951849993"
      ],
      "text/markdown": [
       "168.446951849993"
      ],
      "text/plain": [
       "[1] 168.447"
      ]
     },
     "metadata": {},
     "output_type": "display_data"
    }
   ],
   "source": [
    "# using function\n",
    "var(data)"
   ]
  },
  {
   "cell_type": "code",
   "execution_count": 11,
   "id": "4291b2c0",
   "metadata": {},
   "outputs": [
    {
     "name": "stdout",
     "output_type": "stream",
     "text": [
      "[1] 168.447\n"
     ]
    }
   ],
   "source": [
    "# using formula\n",
    "\n",
    "suming_2 = 0\n",
    "\n",
    "for (d in data)\n",
    "{\n",
    "    suming_2 <- suming_2 + (d - m)^2\n",
    "}\n",
    "\n",
    "v <- suming_2/(l-1)\n",
    "\n",
    "print(v)"
   ]
  },
  {
   "cell_type": "markdown",
   "id": "3f509d55",
   "metadata": {},
   "source": [
    "__Sample standard deviation:__\n",
    "\n",
    "$$s = \\sqrt{s^2}$$"
   ]
  },
  {
   "cell_type": "code",
   "execution_count": 12,
   "id": "d2d4932f",
   "metadata": {},
   "outputs": [
    {
     "data": {
      "text/html": [
       "12.9787114865071"
      ],
      "text/latex": [
       "12.9787114865071"
      ],
      "text/markdown": [
       "12.9787114865071"
      ],
      "text/plain": [
       "[1] 12.97871"
      ]
     },
     "metadata": {},
     "output_type": "display_data"
    }
   ],
   "source": [
    "# using function\n",
    "sd(data)"
   ]
  },
  {
   "cell_type": "code",
   "execution_count": 13,
   "id": "ea1d1c56",
   "metadata": {},
   "outputs": [
    {
     "name": "stdout",
     "output_type": "stream",
     "text": [
      "[1] 12.97871\n"
     ]
    }
   ],
   "source": [
    "# using formula\n",
    "\n",
    "s <- sqrt(v)\n",
    "\n",
    "print(s)"
   ]
  },
  {
   "cell_type": "markdown",
   "id": "75dcfd78",
   "metadata": {},
   "source": [
    "__Standard error of mean:__\n",
    "\n",
    "$$s(\\overline{X}) = \\frac{s}{\\sqrt{n}}$$"
   ]
  },
  {
   "cell_type": "code",
   "execution_count": 27,
   "id": "276c9c61",
   "metadata": {},
   "outputs": [
    {
     "name": "stderr",
     "output_type": "stream",
     "text": [
      "Warning message:\n",
      "\"package 'plotrix' is in use and will not be installed\"\n"
     ]
    }
   ],
   "source": [
    "install.packages(\"plotrix\")"
   ]
  },
  {
   "cell_type": "code",
   "execution_count": 28,
   "id": "e8ce2441",
   "metadata": {},
   "outputs": [
    {
     "data": {
      "text/html": [
       "0.297439132826097"
      ],
      "text/latex": [
       "0.297439132826097"
      ],
      "text/markdown": [
       "0.297439132826097"
      ],
      "text/plain": [
       "[1] 0.2974391"
      ]
     },
     "metadata": {},
     "output_type": "display_data"
    }
   ],
   "source": [
    "# using function \n",
    "library(plotrix)\n",
    "\n",
    "std.error(data)"
   ]
  },
  {
   "cell_type": "code",
   "execution_count": 16,
   "id": "0b6b5811",
   "metadata": {},
   "outputs": [
    {
     "data": {
      "text/html": [
       "0.297439132826097"
      ],
      "text/latex": [
       "0.297439132826097"
      ],
      "text/markdown": [
       "0.297439132826097"
      ],
      "text/plain": [
       "[1] 0.2974391"
      ]
     },
     "metadata": {},
     "output_type": "display_data"
    }
   ],
   "source": [
    "# using formula\n",
    "\n",
    "se <- s / sqrt(l)\n",
    "se"
   ]
  },
  {
   "cell_type": "markdown",
   "id": "4c747f01",
   "metadata": {},
   "source": [
    "Here I want to notice again, that we have found estimators of data features."
   ]
  },
  {
   "cell_type": "markdown",
   "id": "9b741eef",
   "metadata": {},
   "source": [
    "## Step 2: shape of distribution"
   ]
  },
  {
   "cell_type": "markdown",
   "id": "4b5f3d94",
   "metadata": {},
   "source": [
    "To understand, how the data is distributed, we need to have a look on the data first. For this let's use histogram plot:"
   ]
  },
  {
   "cell_type": "code",
   "execution_count": 17,
   "id": "075453ba",
   "metadata": {},
   "outputs": [
    {
     "data": {
      "image/png": "[encoded data removed]",
      "text/plain": [
       "Plot with title \"Histogram of patients age\""
      ]
     },
     "metadata": {
      "image/png": {
       "height": 420,
       "width": 420
      }
     },
     "output_type": "display_data"
    }
   ],
   "source": [
    "hist(data,\n",
    "    main = \"Histogram of patients age\",\n",
    "    xlab = \"Age in years\",\n",
    "    col = \"blue\")"
   ]
  },
  {
   "cell_type": "markdown",
   "id": "bde6894a",
   "metadata": {},
   "source": [
    "As we can see on the plot, this is left-skewed distribution."
   ]
  },
  {
   "cell_type": "markdown",
   "id": "475bbd42",
   "metadata": {},
   "source": [
    "It looks like it can be __normal distribution__. Let's plot density function for data:"
   ]
  },
  {
   "cell_type": "code",
   "execution_count": 18,
   "id": "1420735a",
   "metadata": {},
   "outputs": [
    {
     "data": {
      "image/png": "[encoded data removed]",
      "text/plain": [
       "Plot with title \"Histogram of patients age\""
      ]
     },
     "metadata": {
      "image/png": {
       "height": 420,
       "width": 420
      }
     },
     "output_type": "display_data"
    }
   ],
   "source": [
    "hist(data,\n",
    "    main = \"Histogram of patients age\",\n",
    "    xlab = \"Age in years\",\n",
    "    col = \"blue\",\n",
    "    prob = T, # helps to show densities instead of requencies\n",
    "    breaks = 12) # how many bins we need on the plot; it is a suggestion\n",
    "lines(density(data), # creates empirical density function\n",
    "      lw = 3, col = \"red\") "
   ]
  },
  {
   "cell_type": "markdown",
   "id": "44e08ab4",
   "metadata": {},
   "source": [
    "To understand better we can also plot normal distribution near the density curve."
   ]
  },
  {
   "cell_type": "code",
   "execution_count": 19,
   "id": "e8e98d7f",
   "metadata": {},
   "outputs": [
    {
     "data": {
      "image/png": "[encoded data removed]",
      "text/plain": [
       "Plot with title \"Histogram of patients age and normal distribution\""
      ]
     },
     "metadata": {
      "image/png": {
       "height": 420,
       "width": 420
      }
     },
     "output_type": "display_data"
    }
   ],
   "source": [
    "hist(data,\n",
    "    main = \"Histogram of patients age and normal distribution\",\n",
    "    xlab = \"Age in years\",\n",
    "    col = \"blue\",\n",
    "    prob = T,\n",
    "    breaks = 12, \n",
    "    ylim = c(0, 0.035)) \n",
    "lines(density(data), lw = 3, col = \"red\") \n",
    "lines(sorted, dnorm(sorted, mean = mean(sorted), sd = sd(sorted)), lw = 3)\n",
    "legend(\"topleft\", legend = c(\"Density\", \"Normal distribution\"), \n",
    "       col = c(\"red\", \"black\"), \n",
    "       lty=1) # type of line"
   ]
  },
  {
   "cell_type": "markdown",
   "id": "a8d33d7d",
   "metadata": {},
   "source": [
    "Okay, it is near, but the peak is a bit moved to right.\n",
    "\n",
    "## Step 3: outliers\n",
    "\n",
    "- $\\hat{Q}_1$ - first quartile: no more than 25% observations to the left, 75% to the right of the item in sorted sample\n",
    "- $\\hat{Q}_3$ - third quartile: no more than 75% observations to the left, 25% to the right\n",
    "- $\\hat{IQR} = \\hat{Q}_3 - \\hat{Q}_1$\n",
    "\n",
    "\n",
    "$$outliers \\notin [\\hat{Q}_1 - 1.5\\times \\hat{IQR}; \\hat{Q}_3 + 1.5\\times \\hat{IQR}] $$"
   ]
  },
  {
   "cell_type": "code",
   "execution_count": 20,
   "id": "c6eeac46",
   "metadata": {},
   "outputs": [
    {
     "data": {
      "text/html": [
       "<style>\n",
       ".dl-inline {width: auto; margin:0; padding: 0}\n",
       ".dl-inline>dt, .dl-inline>dd {float: none; width: auto; display: inline-block}\n",
       ".dl-inline>dt::after {content: \":\\0020\"; padding-right: .5ex}\n",
       ".dl-inline>dt:not(:first-of-type) {padding-left: .5ex}\n",
       "</style><dl class=dl-inline><dt>0%</dt><dd>21.93</dd><dt>25%</dt><dd>51.36</dd><dt>50%</dt><dd>61.76</dd><dt>75%</dt><dd>70.59</dd><dt>100%</dt><dd>96.29</dd></dl>\n"
      ],
      "text/latex": [
       "\\begin{description*}\n",
       "\\item[0\\textbackslash{}\\%] 21.93\n",
       "\\item[25\\textbackslash{}\\%] 51.36\n",
       "\\item[50\\textbackslash{}\\%] 61.76\n",
       "\\item[75\\textbackslash{}\\%] 70.59\n",
       "\\item[100\\textbackslash{}\\%] 96.29\n",
       "\\end{description*}\n"
      ],
      "text/markdown": [
       "0%\n",
       ":   21.9325%\n",
       ":   51.3650%\n",
       ":   61.7675%\n",
       ":   70.59100%\n",
       ":   96.29\n",
       "\n"
      ],
      "text/plain": [
       "   0%   25%   50%   75%  100% \n",
       "21.93 51.36 61.76 70.59 96.29 "
      ]
     },
     "metadata": {},
     "output_type": "display_data"
    }
   ],
   "source": [
    "# finding quartile using function\n",
    "quantile(data, type = 1)"
   ]
  },
  {
   "cell_type": "markdown",
   "id": "0c1bc9f8",
   "metadata": {},
   "source": [
    "We know, that \n",
    "\n",
    "$$Q_1 = \\pi_{25}$$\n",
    "$$Q_3 = \\pi_{75}$$\n",
    "\n",
    "So we need 25% and 75% values."
   ]
  },
  {
   "cell_type": "code",
   "execution_count": 21,
   "id": "9ae2936d",
   "metadata": {},
   "outputs": [
    {
     "data": {
      "text/html": [
       "51.36"
      ],
      "text/latex": [
       "51.36"
      ],
      "text/markdown": [
       "51.36"
      ],
      "text/plain": [
       "[1] 51.36"
      ]
     },
     "metadata": {},
     "output_type": "display_data"
    }
   ],
   "source": [
    "# finding using formula\n",
    "\n",
    "Q1 <- sorted[ceiling(l*0.25)]\n",
    "Q1"
   ]
  },
  {
   "cell_type": "code",
   "execution_count": 22,
   "id": "7e8ad342",
   "metadata": {},
   "outputs": [
    {
     "data": {
      "text/html": [
       "70.59"
      ],
      "text/latex": [
       "70.59"
      ],
      "text/markdown": [
       "70.59"
      ],
      "text/plain": [
       "[1] 70.59"
      ]
     },
     "metadata": {},
     "output_type": "display_data"
    }
   ],
   "source": [
    "Q3 <- sorted[ceiling(l*0.75)]\n",
    "Q3"
   ]
  },
  {
   "cell_type": "code",
   "execution_count": 23,
   "id": "db4a530b",
   "metadata": {},
   "outputs": [
    {
     "name": "stdout",
     "output_type": "stream",
     "text": [
      "[1] 22.515\n",
      "[1] 99.435\n"
     ]
    }
   ],
   "source": [
    "IQR <- Q3-Q1\n",
    "\n",
    "down <- Q1 - 1.5*IQR\n",
    "up <- Q3 + 1.5*IQR\n",
    "\n",
    "print(down)\n",
    "print(up)"
   ]
  },
  {
   "cell_type": "markdown",
   "id": "ecbb6489",
   "metadata": {},
   "source": [
    "$$outliers \\notin [22.515, 99.435]$$"
   ]
  },
  {
   "cell_type": "code",
   "execution_count": 24,
   "id": "0786a752",
   "metadata": {},
   "outputs": [
    {
     "data": {
      "text/html": [
       "21.93"
      ],
      "text/latex": [
       "21.93"
      ],
      "text/markdown": [
       "21.93"
      ],
      "text/plain": [
       "[1] 21.93"
      ]
     },
     "metadata": {},
     "output_type": "display_data"
    }
   ],
   "source": [
    "data[data > up | down > data]"
   ]
  },
  {
   "cell_type": "markdown",
   "id": "238495c0",
   "metadata": {},
   "source": [
    "Here we can see, that there is one outlier. Let's look on boxplot to prove that:"
   ]
  },
  {
   "cell_type": "code",
   "execution_count": 25,
   "id": "e432bbdc",
   "metadata": {},
   "outputs": [
    {
     "data": {
      "image/png": "[encoded data removed]",
      "text/plain": [
       "Plot with title \"Boxplot for age\""
      ]
     },
     "metadata": {
      "image/png": {
       "height": 420,
       "width": 420
      }
     },
     "output_type": "display_data"
    }
   ],
   "source": [
    "boxplot(data,\n",
    "       main = \"Boxplot for age\",\n",
    "       ylab = \"Age\")"
   ]
  },
  {
   "cell_type": "markdown",
   "id": "7c797883",
   "metadata": {},
   "source": [
    "We were right - here on the boxplot we see one outlier.   \n",
    "From the plot we also can see, how skewed is the distribution of data: the median is not in the middle of the box, it is closer to highest border. But the whiskers, that are representing valid bounds of data values, have the same length. "
   ]
  },
  {
   "cell_type": "markdown",
   "id": "8aa17b08",
   "metadata": {},
   "source": [
    "## Step 4: confidence intervals\n",
    "\n",
    "### Confidence interval for mean\n",
    "\n",
    "To construct %95 confidence intervals we should get small sub-sample from data.  \n",
    "Let's find 20 items to construct confidence interval for them."
   ]
  },
  {
   "cell_type": "code",
   "execution_count": 34,
   "id": "58a7a820",
   "metadata": {},
   "outputs": [
    {
     "data": {
      "text/html": [
       "1379"
      ],
      "text/latex": [
       "1379"
      ],
      "text/markdown": [
       "1379"
      ],
      "text/plain": [
       "[1] 1379"
      ]
     },
     "metadata": {},
     "output_type": "display_data"
    }
   ],
   "source": [
    "library(pracma)\n",
    "\n",
    "# generate random index from 0 to l-20\n",
    "rand <- ceil(runif(1, 0, l-20))\n",
    "rand # here I got 755"
   ]
  },
  {
   "cell_type": "code",
   "execution_count": 35,
   "id": "b5c788e4",
   "metadata": {},
   "outputs": [
    {
     "data": {
      "text/html": [
       "<style>\n",
       ".list-inline {list-style: none; margin:0; padding: 0}\n",
       ".list-inline>li {display: inline-block}\n",
       ".list-inline>li:not(:last-child)::after {content: \"\\00b7\"; padding: 0 .5ex}\n",
       "</style>\n",
       "<ol class=list-inline><li>68.72</li><li>49.45</li><li>60.45</li><li>53.89</li><li>54.6</li><li>65.89</li><li>43.56</li><li>63.82</li><li>49.37</li><li>54.29</li><li>62.03</li><li>35.5</li><li>57.91</li><li>76.96</li><li>74.51</li><li>70.31</li><li>61.16</li><li>66.37</li><li>64.91</li><li>73.15</li></ol>\n"
      ],
      "text/latex": [
       "\\begin{enumerate*}\n",
       "\\item 68.72\n",
       "\\item 49.45\n",
       "\\item 60.45\n",
       "\\item 53.89\n",
       "\\item 54.6\n",
       "\\item 65.89\n",
       "\\item 43.56\n",
       "\\item 63.82\n",
       "\\item 49.37\n",
       "\\item 54.29\n",
       "\\item 62.03\n",
       "\\item 35.5\n",
       "\\item 57.91\n",
       "\\item 76.96\n",
       "\\item 74.51\n",
       "\\item 70.31\n",
       "\\item 61.16\n",
       "\\item 66.37\n",
       "\\item 64.91\n",
       "\\item 73.15\n",
       "\\end{enumerate*}\n"
      ],
      "text/markdown": [
       "1. 68.72\n",
       "2. 49.45\n",
       "3. 60.45\n",
       "4. 53.89\n",
       "5. 54.6\n",
       "6. 65.89\n",
       "7. 43.56\n",
       "8. 63.82\n",
       "9. 49.37\n",
       "10. 54.29\n",
       "11. 62.03\n",
       "12. 35.5\n",
       "13. 57.91\n",
       "14. 76.96\n",
       "15. 74.51\n",
       "16. 70.31\n",
       "17. 61.16\n",
       "18. 66.37\n",
       "19. 64.91\n",
       "20. 73.15\n",
       "\n",
       "\n"
      ],
      "text/plain": [
       " [1] 68.72 49.45 60.45 53.89 54.60 65.89 43.56 63.82 49.37 54.29 62.03 35.50\n",
       "[13] 57.91 76.96 74.51 70.31 61.16 66.37 64.91 73.15"
      ]
     },
     "metadata": {},
     "output_type": "display_data"
    }
   ],
   "source": [
    "#sample <- data[rand:(rand+19)]\n",
    "sample <- data[755:(755+19)]\n",
    "sample"
   ]
  },
  {
   "cell_type": "code",
   "execution_count": 36,
   "id": "66bdc7d0",
   "metadata": {},
   "outputs": [],
   "source": [
    "s_m <- mean(sample)\n",
    "s_sd <- sd(sample)"
   ]
  },
  {
   "cell_type": "markdown",
   "id": "8688ed6d",
   "metadata": {},
   "source": [
    "Since we took small number of data, we can use student's distribution to calculate the mean CI:\n",
    "\n",
    "$$\\overline{X} \\pm t_{\\alpha/2}\\frac{s}{\\sqrt{n}}$$\n",
    "$$1 - \\alpha = 95\\% \\Leftrightarrow \\alpha = 5\\% \\Leftrightarrow \\frac{\\alpha}{2} = 0.025$$\n",
    "Number degrees of freedom: $n-1$"
   ]
  },
  {
   "cell_type": "code",
   "execution_count": 37,
   "id": "713cf5b9",
   "metadata": {},
   "outputs": [
    {
     "data": {
      "text/html": [
       "2.09302405440831"
      ],
      "text/latex": [
       "2.09302405440831"
      ],
      "text/markdown": [
       "2.09302405440831"
      ],
      "text/plain": [
       "[1] 2.093024"
      ]
     },
     "metadata": {},
     "output_type": "display_data"
    }
   ],
   "source": [
    "# finding t-student value\n",
    "\n",
    "degrees <- length(sample) - 1\n",
    "alpha_2 = 0.025\n",
    "\n",
    "student <- qt(alpha_2, degrees, lower.tail = F)\n",
    "student"
   ]
  },
  {
   "cell_type": "code",
   "execution_count": 38,
   "id": "78863a6a",
   "metadata": {},
   "outputs": [
    {
     "name": "stdout",
     "output_type": "stream",
     "text": [
      "[1] 55.34199\n",
      "[1] 65.34301\n"
     ]
    }
   ],
   "source": [
    "lower <- s_m - student*s_sd/sqrt(length(sample))\n",
    "upper <- s_m + student*s_sd/sqrt(length(sample))\n",
    "\n",
    "\n",
    "print(lower)\n",
    "print(upper)"
   ]
  },
  {
   "cell_type": "markdown",
   "id": "fa7dd9e2",
   "metadata": {},
   "source": [
    "Confidence interval for sample mean is: $[55.342, 65.343]$\n",
    "\n",
    "__Another approach__  \n",
    "If we are talking about real data, we are always speaking about samples, not really about full population values. So in this work I assumed, that my dataset contains also sample values.\n",
    "\n",
    "But in this part of the project we are finding subsample of original sample data. For this case let's imagine, that the original data $\\overline{X} \\approx \\mu$ and $s^2 \\approx \\sigma^2$. For this case we can calculate subsample's mean CI in different way (this would be a case, where the $\\sigma$ is known):\n",
    "\n",
    "$$\\overline{X} \\pm z_{\\alpha/2} \\frac{\\sigma}{\\sqrt{n}} \\$$\n",
    "\n",
    "$$1-\\alpha = 0.95 \\Leftrightarrow \\alpha = 0.05 \\Leftrightarrow \\frac{\\alpha}{2} = 0.025$$"
   ]
  },
  {
   "cell_type": "code",
   "execution_count": 45,
   "id": "3771884a",
   "metadata": {},
   "outputs": [
    {
     "data": {
      "text/html": [
       "1.95996398454005"
      ],
      "text/latex": [
       "1.95996398454005"
      ],
      "text/markdown": [
       "1.95996398454005"
      ],
      "text/plain": [
       "[1] 1.959964"
      ]
     },
     "metadata": {},
     "output_type": "display_data"
    }
   ],
   "source": [
    "z_alpha_2 <- qnorm(alpha_2, lower.tail = F)\n",
    "z_alpha_2"
   ]
  },
  {
   "cell_type": "code",
   "execution_count": 40,
   "id": "e7e7c80d",
   "metadata": {},
   "outputs": [
    {
     "name": "stdout",
     "output_type": "stream",
     "text": [
      "[1] 54.65443\n",
      "[1] 66.03057\n"
     ]
    }
   ],
   "source": [
    "lower_2 <- s_m - z_alpha_2 * s / sqrt(length(sample))\n",
    "upper_2 <- s_m + z_alpha_2 * s / sqrt(length(sample))\n",
    "\n",
    "print(lower_2)\n",
    "print(upper_2)"
   ]
  },
  {
   "cell_type": "markdown",
   "id": "200bc8bf",
   "metadata": {},
   "source": [
    "Using this unusual approach, we got a bit wider confidence interval for sample mean: $\\mu \\in [54.654, 66.03]$\n",
    "\n",
    "\n",
    "### Confidence interval for variance\n",
    "\n",
    "_Since lectures of second part of the semester were told in turkish, I didn't understand this clearly. In Michael Baron's book there's no clear explanation, how to find variance CI. So I will use formula from David J. Sheskin's book \"Handbook of Parametric and Nonparametric Statistical Procedures\"_\n",
    "\n",
    "Confidence interval for population variance is calculated is follows:\n",
    "\n",
    "$$\\frac{(n-1)s^2}{\\chi^2_{\\frac{\\alpha}{2}, n-1}} \\leq \\sigma^2 \\leq \\frac{(n-1)s^2}{\\chi^2_{1 -\\frac{\\alpha}{2}, n-1}}$$"
   ]
  },
  {
   "cell_type": "code",
   "execution_count": 42,
   "id": "dedba036",
   "metadata": {},
   "outputs": [
    {
     "name": "stdout",
     "output_type": "stream",
     "text": [
      "[1] 8.906516\n",
      "[1] 32.85233\n"
     ]
    }
   ],
   "source": [
    "# CI using sample\n",
    "\n",
    "chi_1_alpha <- qchisq(1-alpha_2, degrees, lower.tail = F)\n",
    "chi_alpha <- qchisq(alpha_2, degrees, lower.tail = F)\n",
    "\n",
    "print(chi_1_alpha)\n",
    "print(chi_alpha)"
   ]
  },
  {
   "cell_type": "code",
   "execution_count": 43,
   "id": "11101e21",
   "metadata": {},
   "outputs": [
    {
     "name": "stdout",
     "output_type": "stream",
     "text": [
      "[1] 66.02328\n",
      "[1] 243.5316\n"
     ]
    }
   ],
   "source": [
    "lower_s <- (degrees*s_sd*s_sd)/chi_alpha\n",
    "upper_s <- (degrees*s_sd*s_sd)/chi_1_alpha\n",
    "\n",
    "print(lower_s)\n",
    "print(upper_s)"
   ]
  },
  {
   "cell_type": "markdown",
   "id": "099b5705",
   "metadata": {},
   "source": [
    "Confidence interval for variance is: $[66.02328, 243.5316]$\n",
    "\n",
    "__Another one try__  \n",
    "\n",
    "Since we have more big sample, let's try to estimate population variance using full given data."
   ]
  },
  {
   "cell_type": "code",
   "execution_count": 50,
   "id": "e1236565",
   "metadata": {},
   "outputs": [
    {
     "name": "stdout",
     "output_type": "stream",
     "text": [
      "[1] 1783.99\n",
      "[1] 2025.799\n"
     ]
    }
   ],
   "source": [
    "chi_1_alpha_2 <- qchisq(1-alpha_2, l-1, lower.tail = F)\n",
    "chi_alpha_2 <- qchisq(alpha_2, l-1, lower.tail = F)\n",
    "\n",
    "print(chi_1_alpha_2)\n",
    "print(chi_alpha_2)"
   ]
  },
  {
   "cell_type": "code",
   "execution_count": 51,
   "id": "90cde138",
   "metadata": {},
   "outputs": [
    {
     "name": "stdout",
     "output_type": "stream",
     "text": [
      "[1] 158.2361\n",
      "[1] 179.6841\n"
     ]
    }
   ],
   "source": [
    "lower_s_2 <- ((l-1)*s*s)/chi_alpha_2\n",
    "upper_s_2 <- ((l-1)*s*s)/chi_1_alpha_2\n",
    "\n",
    "print(lower_s_2)\n",
    "print(upper_s_2)"
   ]
  },
  {
   "cell_type": "markdown",
   "id": "13aea8d8",
   "metadata": {},
   "source": [
    "Now we see, that CI became smaller, because we used more accurate estimators value.\n",
    "\n",
    "### Estimating proportions with given precision\n",
    "\n",
    "__We can also find size of sample to estimate the population mean with margin at most 0.1 units with confidence 90%.__\n",
    "\n",
    "The estimated minimum sample size $n$ needed to estimate a population mean $\\mu$ to within $\\Delta$ units at $100(1−\\alpha)$% confidence is\n",
    "\n",
    "$$n \\geq (\\frac{z_{\\alpha/2}\\bullet \\sigma}{\\Delta})^2$$ \n",
    "\n",
    "Here we will use estimator of standard deviation, because we don't know the real value.\n",
    "\n",
    "$$\\Delta = 0.1$$\n",
    "$$1-\\alpha = 0.9 \\Leftrightarrow \\alpha/2 = 0.05$$"
   ]
  },
  {
   "cell_type": "code",
   "execution_count": 44,
   "id": "d3bb8da9",
   "metadata": {},
   "outputs": [
    {
     "name": "stdout",
     "output_type": "stream",
     "text": [
      "[1] 45583\n",
      "[1] 30892\n"
     ]
    }
   ],
   "source": [
    "z_alpha <- 1.645 # from table\n",
    "\n",
    "# find value for full sample\n",
    "value1 <- ceiling((z_alpha*s/0.1)^2)\n",
    "\n",
    "# find value for subsample\n",
    "value2 <- ceiling((z_alpha*s_sd/0.1)^2)\n",
    "\n",
    "print(value1)\n",
    "print(value2)"
   ]
  },
  {
   "cell_type": "markdown",
   "id": "40e81b4d",
   "metadata": {},
   "source": [
    "$$n_1 \\geq 45583$$\n",
    "$$n_2 \\geq 30892$$\n",
    "\n",
    "We can see two different results: second one is smaller by 50% because of not enough information about known sample."
   ]
  }
 ],
 "metadata": {
  "kernelspec": {
   "display_name": "R",
   "language": "R",
   "name": "ir"
  },
  "language_info": {
   "codemirror_mode": "r",
   "file_extension": ".r",
   "mimetype": "text/x-r-source",
   "name": "R",
   "pygments_lexer": "r",
   "version": "4.0.3"
  }
 },
 "nbformat": 4,
 "nbformat_minor": 5
}
